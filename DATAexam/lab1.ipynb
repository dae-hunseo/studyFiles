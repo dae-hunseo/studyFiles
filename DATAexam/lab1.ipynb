{
 "cells": [
  {
   "cell_type": "markdown",
   "id": "6550a83b-0e02-477a-93bd-a885ce26d4ba",
   "metadata": {},
   "source": [
    "# 11월 16일 실습1"
   ]
  },
  {
   "cell_type": "markdown",
   "id": "a2859122-0611-496a-b712-1791cd9fe038",
   "metadata": {},
   "source": [
    "#### 1번문제"
   ]
  },
  {
   "cell_type": "code",
   "execution_count": 28,
   "id": "2ffef789-35a0-4033-b232-013f0859a5ec",
   "metadata": {},
   "outputs": [
    {
     "name": "stdout",
     "output_type": "stream",
     "text": [
      "URL 문자열 : http://unico2013.dothome.co.kr/crawling/exercise.php?category=%EC%97%AD%EC%82%AC&page=25\n",
      "﻿<!DOCTYPE html>\n",
      "<html>  \n",
      "  <head>    \n",
      "   <meta charset=\"utf-8\">    \n",
      "   <title>TEST</title>  \n",
      "  </head>  \n",
      "  <body>   \n",
      "    <h1 style='color : red'>카테고리 : 역사</h1>\n",
      "    <h2 style='color : blue'>페이지 : 25</h2>   \n",
      "  </body>\n",
      "</html>\n"
     ]
    }
   ],
   "source": [
    "import urllib.request\n",
    "import urllib.parse\n",
    "\n",
    "params = urllib.parse.urlencode({'category': '역사', 'page': 25})\n",
    "url = \"http://unico2013.dothome.co.kr/crawling/exercise.php?%s\" % params\n",
    "print(\"URL 문자열 : %s\" % url)\n",
    "res = urllib.request.urlopen(url) #with urllib.request.urlopen(url) as res: 하고 밑에 print문 tab으로 들여쓰기 하는 방식으로 해도 됨\n",
    "print(res.read().decode('utf-8'))"
   ]
  },
  {
   "cell_type": "markdown",
   "id": "0b63f409-5f21-4db4-9aac-228eb31dad3d",
   "metadata": {},
   "source": [
    "#### 2번문제"
   ]
  },
  {
   "cell_type": "code",
   "execution_count": 27,
   "id": "628c5908-f31a-43b7-99f4-0588b481d5ec",
   "metadata": {},
   "outputs": [
    {
     "name": "stdout",
     "output_type": "stream",
     "text": [
      "﻿<!DOCTYPE html>\n",
      "<html>  \n",
      "  <head>    \n",
      "   <meta charset=\"utf-8\">    \n",
      "   <title>TEST</title>  \n",
      "  </head>  \n",
      "  <body>   \n",
      "    <h1 style='color : red'>카테고리 : 여행</h1>\n",
      "    <h2 style='color : blue'>페이지 : 100</h2>   \n",
      "  </body>\n",
      "</html>\n"
     ]
    }
   ],
   "source": [
    "import requests\n",
    "dicdata = {'category': '여행', 'page': 100}\n",
    "r = requests.request('get', 'http://unico2013.dothome.co.kr/crawling/exercise.php', params = dicdata) #params면 GET, data면 POST\n",
    "r.encoding = 'utf-8'\n",
    "if r.text :\n",
    "    print(r.text) #content와 text 둘 중에 하나 선택. 다만 응답된 내용이 html일때는 text가 좋다고 함. 또 content일때는 r.content.decode('utf-8')로 해줘야 바이트열 문자를 일반 char문자로 읽을 수 있음.\n",
    "else :\n",
    "    print('응답된 콘텐츠가 없어요')"
   ]
  }
 ],
 "metadata": {
  "kernelspec": {
   "display_name": "eduvenv",
   "language": "python",
   "name": "eduvenv"
  },
  "language_info": {
   "codemirror_mode": {
    "name": "ipython",
    "version": 3
   },
   "file_extension": ".py",
   "mimetype": "text/x-python",
   "name": "python",
   "nbconvert_exporter": "python",
   "pygments_lexer": "ipython3",
   "version": "3.9.15"
  }
 },
 "nbformat": 4,
 "nbformat_minor": 5
}
