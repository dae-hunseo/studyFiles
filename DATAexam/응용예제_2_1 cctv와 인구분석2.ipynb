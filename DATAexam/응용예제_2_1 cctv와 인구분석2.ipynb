{
 "cells": [
  {
   "cell_type": "markdown",
   "id": "7e81fd4a-5aa8-482d-99b1-daf8f0ad42b7",
   "metadata": {},
   "source": [
    "## 11/25 13:35~"
   ]
  },
  {
   "cell_type": "markdown",
   "id": "06bb6ac1",
   "metadata": {},
   "source": [
    "## cctv와 인구분석 2\n",
    "- 전처리되어져서 저장된 데이터 불러오기\n",
    "- cctv와 인구와의 관계를 scatter로 표현하고 \n",
    "- 관계데이터를 기반으로 한 대표직선(회귀직선) 을 표현"
   ]
  },
  {
   "cell_type": "code",
   "execution_count": 2,
   "id": "9b790456",
   "metadata": {
    "tags": []
   },
   "outputs": [],
   "source": [
    "import pandas as pd\n",
    "import numpy as np\n",
    "import matplotlib.pyplot as plt\n",
    "%matplotlib inline"
   ]
  },
  {
   "cell_type": "code",
   "execution_count": 3,
   "id": "def106fc",
   "metadata": {
    "tags": []
   },
   "outputs": [],
   "source": [
    "#한글문제 발생\n",
    "#matplotlib의 기본폰트에서 한글지원 폰트가 없음\n",
    "#패키지의 폰트를 추가하고 사용\n",
    "\n",
    "import platform\n",
    "\n",
    "from matplotlib import font_manager, rc\n",
    "plt.rcParams['axes.unicode_minus'] = False\n",
    "\n",
    "if platform.system() == 'Darwin':  # 맥OS \n",
    "    rc('font', family='AppleGothic')\n",
    "elif platform.system() == 'Windows':  # 윈도우\n",
    "    path = \"c:/Windows/Fonts/malgun.ttf\"\n",
    "    font_name = font_manager.FontProperties(fname=path).get_name()\n",
    "    rc('font', family=font_name)\n",
    "else:\n",
    "    print('Unknown system...  sorry~~~')"
   ]
  },
  {
   "cell_type": "code",
   "execution_count": 29,
   "id": "70e04f5a",
   "metadata": {
    "tags": []
   },
   "outputs": [
    {
     "data": {
      "text/html": [
       "<div>\n",
       "<style scoped>\n",
       "    .dataframe tbody tr th:only-of-type {\n",
       "        vertical-align: middle;\n",
       "    }\n",
       "\n",
       "    .dataframe tbody tr th {\n",
       "        vertical-align: top;\n",
       "    }\n",
       "\n",
       "    .dataframe thead th {\n",
       "        text-align: right;\n",
       "    }\n",
       "</style>\n",
       "<table border=\"1\" class=\"dataframe\">\n",
       "  <thead>\n",
       "    <tr style=\"text-align: right;\">\n",
       "      <th></th>\n",
       "      <th>구별</th>\n",
       "      <th>소계</th>\n",
       "      <th>최근증가율</th>\n",
       "      <th>인구수</th>\n",
       "      <th>한국인</th>\n",
       "      <th>외국인</th>\n",
       "      <th>고령자</th>\n",
       "      <th>외국인비율</th>\n",
       "      <th>고령자비율</th>\n",
       "      <th>cctv비율</th>\n",
       "    </tr>\n",
       "  </thead>\n",
       "  <tbody>\n",
       "    <tr>\n",
       "      <th>0</th>\n",
       "      <td>강남구</td>\n",
       "      <td>3238</td>\n",
       "      <td>150.619195</td>\n",
       "      <td>570500.0</td>\n",
       "      <td>565550.0</td>\n",
       "      <td>4950.0</td>\n",
       "      <td>63167.0</td>\n",
       "      <td>0.867660</td>\n",
       "      <td>11.072217</td>\n",
       "      <td>0.567572</td>\n",
       "    </tr>\n",
       "    <tr>\n",
       "      <th>1</th>\n",
       "      <td>강동구</td>\n",
       "      <td>1010</td>\n",
       "      <td>166.490765</td>\n",
       "      <td>453233.0</td>\n",
       "      <td>449019.0</td>\n",
       "      <td>4214.0</td>\n",
       "      <td>54622.0</td>\n",
       "      <td>0.929765</td>\n",
       "      <td>12.051638</td>\n",
       "      <td>0.222843</td>\n",
       "    </tr>\n",
       "    <tr>\n",
       "      <th>2</th>\n",
       "      <td>강북구</td>\n",
       "      <td>831</td>\n",
       "      <td>125.203252</td>\n",
       "      <td>330192.0</td>\n",
       "      <td>326686.0</td>\n",
       "      <td>3506.0</td>\n",
       "      <td>54813.0</td>\n",
       "      <td>1.061806</td>\n",
       "      <td>16.600342</td>\n",
       "      <td>0.251672</td>\n",
       "    </tr>\n",
       "    <tr>\n",
       "      <th>3</th>\n",
       "      <td>강서구</td>\n",
       "      <td>911</td>\n",
       "      <td>134.793814</td>\n",
       "      <td>603772.0</td>\n",
       "      <td>597248.0</td>\n",
       "      <td>6524.0</td>\n",
       "      <td>72548.0</td>\n",
       "      <td>1.080540</td>\n",
       "      <td>12.015794</td>\n",
       "      <td>0.150885</td>\n",
       "    </tr>\n",
       "    <tr>\n",
       "      <th>4</th>\n",
       "      <td>관악구</td>\n",
       "      <td>2109</td>\n",
       "      <td>149.290780</td>\n",
       "      <td>525515.0</td>\n",
       "      <td>507203.0</td>\n",
       "      <td>18312.0</td>\n",
       "      <td>68082.0</td>\n",
       "      <td>3.484582</td>\n",
       "      <td>12.955291</td>\n",
       "      <td>0.401321</td>\n",
       "    </tr>\n",
       "  </tbody>\n",
       "</table>\n",
       "</div>"
      ],
      "text/plain": [
       "    구별    소계       최근증가율       인구수       한국인      외국인      고령자     외국인비율  \\\n",
       "0  강남구  3238  150.619195  570500.0  565550.0   4950.0  63167.0  0.867660   \n",
       "1  강동구  1010  166.490765  453233.0  449019.0   4214.0  54622.0  0.929765   \n",
       "2  강북구   831  125.203252  330192.0  326686.0   3506.0  54813.0  1.061806   \n",
       "3  강서구   911  134.793814  603772.0  597248.0   6524.0  72548.0  1.080540   \n",
       "4  관악구  2109  149.290780  525515.0  507203.0  18312.0  68082.0  3.484582   \n",
       "\n",
       "       고령자비율    cctv비율  \n",
       "0  11.072217  0.567572  \n",
       "1  12.051638  0.222843  \n",
       "2  16.600342  0.251672  \n",
       "3  12.015794  0.150885  \n",
       "4  12.955291  0.401321  "
      ]
     },
     "execution_count": 29,
     "metadata": {},
     "output_type": "execute_result"
    }
   ],
   "source": [
    "# 데이터 가져오기\n",
    "cctv_res = pd.read_csv('./data/data_result.csv')\n",
    "cctv_res.head()"
   ]
  },
  {
   "cell_type": "code",
   "execution_count": 30,
   "id": "20149068",
   "metadata": {
    "tags": []
   },
   "outputs": [],
   "source": [
    "#csv파일은 텍스트파일에 기반하고 있다. 그래서 뭔가 구조화되어있지 않은 파일이다. 텍스트인데 구분자가 들어있는 파일이 csv파일인것이다. 결국에는 csv를 읽어들일때 column 부분을 콤마나 해당되는 옵션을 주면 내가 준 구분문자를 기준으로 쪼개서 가지고 들어오게되는데, csv는 텍스트 기반이라 이걸 내보낼때 이걸 인덱스라고 내보낼 수는 없다.\n",
    "# 그래서 우리가 가지고 있는 데이터프레임이 csv로 나갈때는 인덱스도 하나의 컬럼으로 나가게 된다. 그냥 가지고 나갔더니 '구별'열이 인덱스화되어지지않고 그냥 컬럼으로 들어왔다. 그리고 숫자인덱스가 자동으로 들어왔다.\n",
    "cctv_res.set_index('구별', inplace=True) #그래서 '구별'열을 인덱스화한다."
   ]
  },
  {
   "cell_type": "code",
   "execution_count": 31,
   "id": "806afb5c",
   "metadata": {
    "tags": []
   },
   "outputs": [
    {
     "data": {
      "text/html": [
       "<div>\n",
       "<style scoped>\n",
       "    .dataframe tbody tr th:only-of-type {\n",
       "        vertical-align: middle;\n",
       "    }\n",
       "\n",
       "    .dataframe tbody tr th {\n",
       "        vertical-align: top;\n",
       "    }\n",
       "\n",
       "    .dataframe thead th {\n",
       "        text-align: right;\n",
       "    }\n",
       "</style>\n",
       "<table border=\"1\" class=\"dataframe\">\n",
       "  <thead>\n",
       "    <tr style=\"text-align: right;\">\n",
       "      <th></th>\n",
       "      <th>소계</th>\n",
       "      <th>최근증가율</th>\n",
       "      <th>인구수</th>\n",
       "      <th>한국인</th>\n",
       "      <th>외국인</th>\n",
       "      <th>고령자</th>\n",
       "      <th>외국인비율</th>\n",
       "      <th>고령자비율</th>\n",
       "      <th>cctv비율</th>\n",
       "    </tr>\n",
       "    <tr>\n",
       "      <th>구별</th>\n",
       "      <th></th>\n",
       "      <th></th>\n",
       "      <th></th>\n",
       "      <th></th>\n",
       "      <th></th>\n",
       "      <th></th>\n",
       "      <th></th>\n",
       "      <th></th>\n",
       "      <th></th>\n",
       "    </tr>\n",
       "  </thead>\n",
       "  <tbody>\n",
       "    <tr>\n",
       "      <th>강남구</th>\n",
       "      <td>3238</td>\n",
       "      <td>150.619195</td>\n",
       "      <td>570500.0</td>\n",
       "      <td>565550.0</td>\n",
       "      <td>4950.0</td>\n",
       "      <td>63167.0</td>\n",
       "      <td>0.867660</td>\n",
       "      <td>11.072217</td>\n",
       "      <td>0.567572</td>\n",
       "    </tr>\n",
       "    <tr>\n",
       "      <th>강동구</th>\n",
       "      <td>1010</td>\n",
       "      <td>166.490765</td>\n",
       "      <td>453233.0</td>\n",
       "      <td>449019.0</td>\n",
       "      <td>4214.0</td>\n",
       "      <td>54622.0</td>\n",
       "      <td>0.929765</td>\n",
       "      <td>12.051638</td>\n",
       "      <td>0.222843</td>\n",
       "    </tr>\n",
       "  </tbody>\n",
       "</table>\n",
       "</div>"
      ],
      "text/plain": [
       "       소계       최근증가율       인구수       한국인     외국인      고령자     외국인비율  \\\n",
       "구별                                                                     \n",
       "강남구  3238  150.619195  570500.0  565550.0  4950.0  63167.0  0.867660   \n",
       "강동구  1010  166.490765  453233.0  449019.0  4214.0  54622.0  0.929765   \n",
       "\n",
       "         고령자비율    cctv비율  \n",
       "구별                        \n",
       "강남구  11.072217  0.567572  \n",
       "강동구  12.051638  0.222843  "
      ]
     },
     "execution_count": 31,
     "metadata": {},
     "output_type": "execute_result"
    }
   ],
   "source": [
    "cctv_res.head(2)"
   ]
  },
  {
   "cell_type": "markdown",
   "id": "ab3a6639",
   "metadata": {},
   "source": [
    "#### cctv와 인구수의 관계 표현\n",
    "- 소계, 인구수 산점도\n",
    "- 소계, 인구수 대표하는 직선(회귀직선)"
   ]
  },
  {
   "cell_type": "code",
   "execution_count": 32,
   "id": "6b51f42c",
   "metadata": {
    "tags": []
   },
   "outputs": [
    {
     "data": {
      "image/png": "[encoded data removed]",
      "text/plain": [
       "<Figure size 640x480 with 1 Axes>"
      ]
     },
     "metadata": {},
     "output_type": "display_data"
    }
   ],
   "source": [
    "# 산점도\n",
    "plt.scatter(cctv_res['인구수'], cctv_res['소계'], s=50)\n",
    "plt.xlabel('인구수')\n",
    "plt.ylabel('소계')\n",
    "plt.grid()\n",
    "plt.show()"
   ]
  },
  {
   "cell_type": "code",
   "execution_count": 33,
   "id": "30b6c89e",
   "metadata": {},
   "outputs": [
    {
     "data": {
      "text/plain": [
       "array([[1.       , 0.2432198],\n",
       "       [0.2432198, 1.       ]])"
      ]
     },
     "execution_count": 33,
     "metadata": {},
     "output_type": "execute_result"
    }
   ],
   "source": [
    "np.corrcoef(cctv_res['인구수'], cctv_res['소계'])"
   ]
  },
  {
   "cell_type": "markdown",
   "id": "f8b2f783",
   "metadata": {},
   "source": [
    "- 인구수와 cctv 대표하는 직선 그리기"
   ]
  },
  {
   "cell_type": "code",
   "execution_count": 34,
   "id": "60fd3487",
   "metadata": {
    "tags": []
   },
   "outputs": [
    {
     "data": {
      "text/plain": [
       "array([1.15151285e-03, 1.04561312e+03])"
      ]
     },
     "execution_count": 34,
     "metadata": {},
     "output_type": "execute_result"
    }
   ],
   "source": [
    "# 기울기와 절편 - np.polyfit(data1, data2,차수) #내가 찾는 2개의 데이터를 넘겨주고, 곡선을 그릴건지 직선을 그릴건지에 대한 차수를 넘겨준다. 곡선은 2, 직선은 1이다. \n",
    "#점들과 가장 가까운 직선은 직선을 하나 그었을때 데이터(점)과 선 사이의 거리가 가장 가까운(데이터(점)과 선 사이의 거리의 합이 가장 적은) 직선을 찾아내는 것이다. 그걸 해주는 함수가 polyfit()이다.\n",
    "poly_fit = np.polyfit(cctv_res.인구수, cctv_res.소계, 1) #1은 직선\n",
    "poly_fit"
   ]
  },
  {
   "cell_type": "code",
   "execution_count": 35,
   "id": "5c09868f",
   "metadata": {
    "tags": []
   },
   "outputs": [
    {
     "data": {
      "text/plain": [
       "poly1d([1.15151285e-03, 1.04561312e+03])"
      ]
     },
     "execution_count": 35,
     "metadata": {},
     "output_type": "execute_result"
    }
   ],
   "source": [
    "# 직선식을 생성 - np.poly1d(계수) #알파벳l이 아니라 1이다 #직선이 아닌 직선'식'이다.\n",
    "poly_1d = np.poly1d(poly_fit) #poly1d()에 대해서 좀 찾아봐야할듯..\n",
    "poly_1d #y=ax+b #poly1d([1.15151285e-03, 1.04561312e+03])은 ply1d(a, b)다. #x는 인구수도 y가 그 인구수에 적당한 cctv 대수다. "
   ]
  },
  {
   "cell_type": "code",
   "execution_count": 36,
   "id": "59072ab5",
   "metadata": {
    "tags": []
   },
   "outputs": [
    {
     "data": {
      "text/plain": [
       "array([133240.        , 144142.91836735, 155045.83673469, 165948.75510204,\n",
       "       176851.67346939, 187754.59183673, 198657.51020408, 209560.42857143,\n",
       "       220463.34693878, 231366.26530612, 242269.18367347, 253172.10204082,\n",
       "       264075.02040816, 274977.93877551, 285880.85714286, 296783.7755102 ,\n",
       "       307686.69387755, 318589.6122449 , 329492.53061224, 340395.44897959,\n",
       "       351298.36734694, 362201.28571429, 373104.20408163, 384007.12244898,\n",
       "       394910.04081633, 405812.95918367, 416715.87755102, 427618.79591837,\n",
       "       438521.71428571, 449424.63265306, 460327.55102041, 471230.46938776,\n",
       "       482133.3877551 , 493036.30612245, 503939.2244898 , 514842.14285714,\n",
       "       525745.06122449, 536647.97959184, 547550.89795918, 558453.81632653,\n",
       "       569356.73469388, 580259.65306122, 591162.57142857, 602065.48979592,\n",
       "       612968.40816327, 623871.32653061, 634774.24489796, 645677.16326531,\n",
       "       656580.08163265, 667483.        ])"
      ]
     },
     "execution_count": 36,
     "metadata": {},
     "output_type": "execute_result"
    }
   ],
   "source": [
    "# x좌표(인구수) 생성\n",
    "xs = np.linspace(cctv_res.인구수.min(), cctv_res.인구수.max())\n",
    "xs #최소 인구수, 최대인구수에 대해 등간격(같은 간격)으로 만든 50개의 수치인듯함. #https://m.blog.naver.com/choi_s_h/221730568009"
   ]
  },
  {
   "cell_type": "code",
   "execution_count": 37,
   "id": "624b93eb",
   "metadata": {
    "tags": []
   },
   "outputs": [
    {
     "data": {
      "text/plain": [
       "array([1199.04069124, 1211.59554181, 1224.15039238, 1236.70524294,\n",
       "       1249.26009351, 1261.81494407, 1274.36979464, 1286.92464521,\n",
       "       1299.47949577, 1312.03434634, 1324.5891969 , 1337.14404747,\n",
       "       1349.69889804, 1362.2537486 , 1374.80859917, 1387.36344973,\n",
       "       1399.9183003 , 1412.47315087, 1425.02800143, 1437.582852  ,\n",
       "       1450.13770256, 1462.69255313, 1475.2474037 , 1487.80225426,\n",
       "       1500.35710483, 1512.9119554 , 1525.46680596, 1538.02165653,\n",
       "       1550.57650709, 1563.13135766, 1575.68620823, 1588.24105879,\n",
       "       1600.79590936, 1613.35075992, 1625.90561049, 1638.46046106,\n",
       "       1651.01531162, 1663.57016219, 1676.12501275, 1688.67986332,\n",
       "       1701.23471389, 1713.78956445, 1726.34441502, 1738.89926558,\n",
       "       1751.45411615, 1764.00896672, 1776.56381728, 1789.11866785,\n",
       "       1801.67351841, 1814.22836898])"
      ]
     },
     "execution_count": 37,
     "metadata": {},
     "output_type": "execute_result"
    }
   ],
   "source": [
    "# xs(임의의 인구수)에 대응하는 ys(cctv 대수) 계산\n",
    "ys = poly_1d(xs)\n",
    "ys #xs에 대해서 1대1로 매칭함 예를 들어 인구수가 133240명이면 적당한 cctv대수는 1199.04069124대라는 것을 의미한다."
   ]
  },
  {
   "cell_type": "code",
   "execution_count": 38,
   "id": "9f772521",
   "metadata": {},
   "outputs": [
    {
     "data": {
      "image/png": "[encoded data removed]",
      "text/plain": [
       "<Figure size 640x480 with 1 Axes>"
      ]
     },
     "metadata": {},
     "output_type": "display_data"
    }
   ],
   "source": [
    "# 직선을 포함한 그래프 생성\n",
    "# 산점도\n",
    "plt.scatter(cctv_res['인구수'], cctv_res['소계'], s=50, label='cctv vs pop')\n",
    "plt.plot(xs, ys, color='red', label='적정cctv')\n",
    "plt.xlabel('인구수')\n",
    "plt.ylabel('구별cctv수')\n",
    "plt.legend(loc='upper left')\n",
    "plt.grid()\n",
    "plt.show()"
   ]
  },
  {
   "cell_type": "markdown",
   "id": "b6e098be",
   "metadata": {},
   "source": [
    "- 인구수가 400000 적정 cctv 대수는 1500대라는것을 표현함\n",
    "- 직선 위에 표현되는 data는 적정 cctv 대수 이상을 보유한 구\n",
    "- 직선 아래에 표현되는 data는 적정 cctv 대수를 보유하지 못한 구"
   ]
  },
  {
   "cell_type": "markdown",
   "id": "083da244-9610-4cb4-90e6-88d509cb8f3f",
   "metadata": {},
   "source": [
    "### 14:15~"
   ]
  },
  {
   "cell_type": "markdown",
   "id": "31c3496f",
   "metadata": {},
   "source": [
    "### cctv 추가 설치가 필요한 구, cctv가 충분한 구 10개 구에 대하여 마킹 "
   ]
  },
  {
   "cell_type": "code",
   "execution_count": 39,
   "id": "1831b50b",
   "metadata": {
    "tags": []
   },
   "outputs": [
    {
     "data": {
      "text/plain": [
       "array([1702.55119857, 1567.51674158, 1425.83344942, 1740.86433401,\n",
       "       1650.75039317, 1474.16474662, 1561.34578424, 1339.34331951,\n",
       "       1701.26611024, 1447.08346749, 1471.09251034, 1520.63519906,\n",
       "       1494.29894874, 1422.34551701, 1564.15086953, 1404.014584  ,\n",
       "       1576.7599352 , 1814.22836898, 1598.31395267, 1509.65552407,\n",
       "       1326.81601125, 1614.90725279, 1233.10244125, 1199.04069124,\n",
       "       1522.91864903])"
      ]
     },
     "execution_count": 39,
     "metadata": {},
     "output_type": "execute_result"
    }
   ],
   "source": [
    "# 각 구별 적절한 cctv 수를 계산 - 위에서 적정 cctv 대수 계산하는 함수 poly_1d\n",
    "poly_1d(cctv_res['인구수']) #구별 인구수 대비 적절한 cctv 대수 #알파벳 l이 아닌 숫자 1임."
   ]
  },
  {
   "cell_type": "code",
   "execution_count": 40,
   "id": "7c9643b3",
   "metadata": {
    "tags": []
   },
   "outputs": [
    {
     "data": {
      "text/plain": [
       "구별\n",
       "강남구     1535.448801\n",
       "강동구     -557.516742\n",
       "강북구     -594.833449\n",
       "강서구     -829.864334\n",
       "관악구      458.249607\n",
       "광진구     -596.164747\n",
       "구로구      322.654216\n",
       "금천구        8.656680\n",
       "노원구     -135.266110\n",
       "도봉구     -622.083467\n",
       "동대문구     398.907490\n",
       "동작구     -218.635199\n",
       "마포구     -514.298949\n",
       "서대문구    -168.345517\n",
       "서초구      732.849130\n",
       "성동구      -77.014584\n",
       "성북구       74.240065\n",
       "송파구     -733.228369\n",
       "양천구      883.686047\n",
       "영등포구    -232.655524\n",
       "용산구      769.183989\n",
       "은평구      493.092747\n",
       "종로구      385.897559\n",
       "중구      -176.040691\n",
       "중랑구     -606.918649\n",
       "Name: 소계, dtype: float64"
      ]
     },
     "execution_count": 40,
     "metadata": {},
     "output_type": "execute_result"
    }
   ],
   "source": [
    "# 구별 인구수 대비 CCTV 오차 계산\n",
    "cctv_res['소계'] - poly_1d(cctv_res['인구수']) #사칙연산 빼기 연산"
   ]
  },
  {
   "cell_type": "markdown",
   "id": "5a9018fb",
   "metadata": {},
   "source": [
    "- 오차를 절댓값으로 계산 후 상위 10개 확인"
   ]
  },
  {
   "cell_type": "code",
   "execution_count": 41,
   "id": "e317a9be",
   "metadata": {},
   "outputs": [
    {
     "data": {
      "text/html": [
       "<div>\n",
       "<style scoped>\n",
       "    .dataframe tbody tr th:only-of-type {\n",
       "        vertical-align: middle;\n",
       "    }\n",
       "\n",
       "    .dataframe tbody tr th {\n",
       "        vertical-align: top;\n",
       "    }\n",
       "\n",
       "    .dataframe thead th {\n",
       "        text-align: right;\n",
       "    }\n",
       "</style>\n",
       "<table border=\"1\" class=\"dataframe\">\n",
       "  <thead>\n",
       "    <tr style=\"text-align: right;\">\n",
       "      <th></th>\n",
       "      <th>소계</th>\n",
       "      <th>최근증가율</th>\n",
       "      <th>인구수</th>\n",
       "      <th>한국인</th>\n",
       "      <th>외국인</th>\n",
       "      <th>고령자</th>\n",
       "      <th>외국인비율</th>\n",
       "      <th>고령자비율</th>\n",
       "      <th>cctv비율</th>\n",
       "      <th>오차</th>\n",
       "    </tr>\n",
       "    <tr>\n",
       "      <th>구별</th>\n",
       "      <th></th>\n",
       "      <th></th>\n",
       "      <th></th>\n",
       "      <th></th>\n",
       "      <th></th>\n",
       "      <th></th>\n",
       "      <th></th>\n",
       "      <th></th>\n",
       "      <th></th>\n",
       "      <th></th>\n",
       "    </tr>\n",
       "  </thead>\n",
       "  <tbody>\n",
       "    <tr>\n",
       "      <th>강남구</th>\n",
       "      <td>3238</td>\n",
       "      <td>150.619195</td>\n",
       "      <td>570500.0</td>\n",
       "      <td>565550.0</td>\n",
       "      <td>4950.0</td>\n",
       "      <td>63167.0</td>\n",
       "      <td>0.867660</td>\n",
       "      <td>11.072217</td>\n",
       "      <td>0.567572</td>\n",
       "      <td>1535.448801</td>\n",
       "    </tr>\n",
       "    <tr>\n",
       "      <th>강동구</th>\n",
       "      <td>1010</td>\n",
       "      <td>166.490765</td>\n",
       "      <td>453233.0</td>\n",
       "      <td>449019.0</td>\n",
       "      <td>4214.0</td>\n",
       "      <td>54622.0</td>\n",
       "      <td>0.929765</td>\n",
       "      <td>12.051638</td>\n",
       "      <td>0.222843</td>\n",
       "      <td>557.516742</td>\n",
       "    </tr>\n",
       "    <tr>\n",
       "      <th>강북구</th>\n",
       "      <td>831</td>\n",
       "      <td>125.203252</td>\n",
       "      <td>330192.0</td>\n",
       "      <td>326686.0</td>\n",
       "      <td>3506.0</td>\n",
       "      <td>54813.0</td>\n",
       "      <td>1.061806</td>\n",
       "      <td>16.600342</td>\n",
       "      <td>0.251672</td>\n",
       "      <td>594.833449</td>\n",
       "    </tr>\n",
       "    <tr>\n",
       "      <th>강서구</th>\n",
       "      <td>911</td>\n",
       "      <td>134.793814</td>\n",
       "      <td>603772.0</td>\n",
       "      <td>597248.0</td>\n",
       "      <td>6524.0</td>\n",
       "      <td>72548.0</td>\n",
       "      <td>1.080540</td>\n",
       "      <td>12.015794</td>\n",
       "      <td>0.150885</td>\n",
       "      <td>829.864334</td>\n",
       "    </tr>\n",
       "    <tr>\n",
       "      <th>관악구</th>\n",
       "      <td>2109</td>\n",
       "      <td>149.290780</td>\n",
       "      <td>525515.0</td>\n",
       "      <td>507203.0</td>\n",
       "      <td>18312.0</td>\n",
       "      <td>68082.0</td>\n",
       "      <td>3.484582</td>\n",
       "      <td>12.955291</td>\n",
       "      <td>0.401321</td>\n",
       "      <td>458.249607</td>\n",
       "    </tr>\n",
       "  </tbody>\n",
       "</table>\n",
       "</div>"
      ],
      "text/plain": [
       "       소계       최근증가율       인구수       한국인      외국인      고령자     외국인비율  \\\n",
       "구별                                                                      \n",
       "강남구  3238  150.619195  570500.0  565550.0   4950.0  63167.0  0.867660   \n",
       "강동구  1010  166.490765  453233.0  449019.0   4214.0  54622.0  0.929765   \n",
       "강북구   831  125.203252  330192.0  326686.0   3506.0  54813.0  1.061806   \n",
       "강서구   911  134.793814  603772.0  597248.0   6524.0  72548.0  1.080540   \n",
       "관악구  2109  149.290780  525515.0  507203.0  18312.0  68082.0  3.484582   \n",
       "\n",
       "         고령자비율    cctv비율           오차  \n",
       "구별                                     \n",
       "강남구  11.072217  0.567572  1535.448801  \n",
       "강동구  12.051638  0.222843   557.516742  \n",
       "강북구  16.600342  0.251672   594.833449  \n",
       "강서구  12.015794  0.150885   829.864334  \n",
       "관악구  12.955291  0.401321   458.249607  "
      ]
     },
     "execution_count": 41,
     "metadata": {},
     "output_type": "execute_result"
    }
   ],
   "source": [
    "cctv_res['오차'] = np.abs(cctv_res['소계'] - poly_1d(cctv_res['인구수'])) #abs는 절대값 함수. #말 그대로 오차를 계산하므로 절대값으로 만듬\n",
    "cctv_res.head()"
   ]
  },
  {
   "cell_type": "code",
   "execution_count": 42,
   "id": "fa1c4f45",
   "metadata": {},
   "outputs": [
    {
     "data": {
      "text/html": [
       "<div>\n",
       "<style scoped>\n",
       "    .dataframe tbody tr th:only-of-type {\n",
       "        vertical-align: middle;\n",
       "    }\n",
       "\n",
       "    .dataframe tbody tr th {\n",
       "        vertical-align: top;\n",
       "    }\n",
       "\n",
       "    .dataframe thead th {\n",
       "        text-align: right;\n",
       "    }\n",
       "</style>\n",
       "<table border=\"1\" class=\"dataframe\">\n",
       "  <thead>\n",
       "    <tr style=\"text-align: right;\">\n",
       "      <th></th>\n",
       "      <th>소계</th>\n",
       "      <th>최근증가율</th>\n",
       "      <th>인구수</th>\n",
       "      <th>한국인</th>\n",
       "      <th>외국인</th>\n",
       "      <th>고령자</th>\n",
       "      <th>외국인비율</th>\n",
       "      <th>고령자비율</th>\n",
       "      <th>cctv비율</th>\n",
       "      <th>오차</th>\n",
       "    </tr>\n",
       "    <tr>\n",
       "      <th>구별</th>\n",
       "      <th></th>\n",
       "      <th></th>\n",
       "      <th></th>\n",
       "      <th></th>\n",
       "      <th></th>\n",
       "      <th></th>\n",
       "      <th></th>\n",
       "      <th></th>\n",
       "      <th></th>\n",
       "      <th></th>\n",
       "    </tr>\n",
       "  </thead>\n",
       "  <tbody>\n",
       "    <tr>\n",
       "      <th>강남구</th>\n",
       "      <td>3238</td>\n",
       "      <td>150.619195</td>\n",
       "      <td>570500.0</td>\n",
       "      <td>565550.0</td>\n",
       "      <td>4950.0</td>\n",
       "      <td>63167.0</td>\n",
       "      <td>0.867660</td>\n",
       "      <td>11.072217</td>\n",
       "      <td>0.567572</td>\n",
       "      <td>1535.448801</td>\n",
       "    </tr>\n",
       "    <tr>\n",
       "      <th>양천구</th>\n",
       "      <td>2482</td>\n",
       "      <td>34.671731</td>\n",
       "      <td>479978.0</td>\n",
       "      <td>475949.0</td>\n",
       "      <td>4029.0</td>\n",
       "      <td>52975.0</td>\n",
       "      <td>0.839413</td>\n",
       "      <td>11.036964</td>\n",
       "      <td>0.517107</td>\n",
       "      <td>883.686047</td>\n",
       "    </tr>\n",
       "    <tr>\n",
       "      <th>강서구</th>\n",
       "      <td>911</td>\n",
       "      <td>134.793814</td>\n",
       "      <td>603772.0</td>\n",
       "      <td>597248.0</td>\n",
       "      <td>6524.0</td>\n",
       "      <td>72548.0</td>\n",
       "      <td>1.080540</td>\n",
       "      <td>12.015794</td>\n",
       "      <td>0.150885</td>\n",
       "      <td>829.864334</td>\n",
       "    </tr>\n",
       "    <tr>\n",
       "      <th>용산구</th>\n",
       "      <td>2096</td>\n",
       "      <td>53.216374</td>\n",
       "      <td>244203.0</td>\n",
       "      <td>229456.0</td>\n",
       "      <td>14747.0</td>\n",
       "      <td>36231.0</td>\n",
       "      <td>6.038828</td>\n",
       "      <td>14.836427</td>\n",
       "      <td>0.858302</td>\n",
       "      <td>769.183989</td>\n",
       "    </tr>\n",
       "    <tr>\n",
       "      <th>송파구</th>\n",
       "      <td>1081</td>\n",
       "      <td>104.347826</td>\n",
       "      <td>667483.0</td>\n",
       "      <td>660584.0</td>\n",
       "      <td>6899.0</td>\n",
       "      <td>72506.0</td>\n",
       "      <td>1.033584</td>\n",
       "      <td>10.862599</td>\n",
       "      <td>0.161952</td>\n",
       "      <td>733.228369</td>\n",
       "    </tr>\n",
       "    <tr>\n",
       "      <th>서초구</th>\n",
       "      <td>2297</td>\n",
       "      <td>63.371266</td>\n",
       "      <td>450310.0</td>\n",
       "      <td>445994.0</td>\n",
       "      <td>4316.0</td>\n",
       "      <td>51733.0</td>\n",
       "      <td>0.958451</td>\n",
       "      <td>11.488308</td>\n",
       "      <td>0.510093</td>\n",
       "      <td>732.849130</td>\n",
       "    </tr>\n",
       "    <tr>\n",
       "      <th>도봉구</th>\n",
       "      <td>825</td>\n",
       "      <td>246.638655</td>\n",
       "      <td>348646.0</td>\n",
       "      <td>346629.0</td>\n",
       "      <td>2017.0</td>\n",
       "      <td>51312.0</td>\n",
       "      <td>0.578524</td>\n",
       "      <td>14.717507</td>\n",
       "      <td>0.236630</td>\n",
       "      <td>622.083467</td>\n",
       "    </tr>\n",
       "    <tr>\n",
       "      <th>중랑구</th>\n",
       "      <td>916</td>\n",
       "      <td>79.960707</td>\n",
       "      <td>414503.0</td>\n",
       "      <td>409882.0</td>\n",
       "      <td>4621.0</td>\n",
       "      <td>56774.0</td>\n",
       "      <td>1.114829</td>\n",
       "      <td>13.696885</td>\n",
       "      <td>0.220988</td>\n",
       "      <td>606.918649</td>\n",
       "    </tr>\n",
       "    <tr>\n",
       "      <th>광진구</th>\n",
       "      <td>878</td>\n",
       "      <td>53.228621</td>\n",
       "      <td>372164.0</td>\n",
       "      <td>357211.0</td>\n",
       "      <td>14953.0</td>\n",
       "      <td>42214.0</td>\n",
       "      <td>4.017852</td>\n",
       "      <td>11.342849</td>\n",
       "      <td>0.235917</td>\n",
       "      <td>596.164747</td>\n",
       "    </tr>\n",
       "    <tr>\n",
       "      <th>강북구</th>\n",
       "      <td>831</td>\n",
       "      <td>125.203252</td>\n",
       "      <td>330192.0</td>\n",
       "      <td>326686.0</td>\n",
       "      <td>3506.0</td>\n",
       "      <td>54813.0</td>\n",
       "      <td>1.061806</td>\n",
       "      <td>16.600342</td>\n",
       "      <td>0.251672</td>\n",
       "      <td>594.833449</td>\n",
       "    </tr>\n",
       "  </tbody>\n",
       "</table>\n",
       "</div>"
      ],
      "text/plain": [
       "       소계       최근증가율       인구수       한국인      외국인      고령자     외국인비율  \\\n",
       "구별                                                                      \n",
       "강남구  3238  150.619195  570500.0  565550.0   4950.0  63167.0  0.867660   \n",
       "양천구  2482   34.671731  479978.0  475949.0   4029.0  52975.0  0.839413   \n",
       "강서구   911  134.793814  603772.0  597248.0   6524.0  72548.0  1.080540   \n",
       "용산구  2096   53.216374  244203.0  229456.0  14747.0  36231.0  6.038828   \n",
       "송파구  1081  104.347826  667483.0  660584.0   6899.0  72506.0  1.033584   \n",
       "서초구  2297   63.371266  450310.0  445994.0   4316.0  51733.0  0.958451   \n",
       "도봉구   825  246.638655  348646.0  346629.0   2017.0  51312.0  0.578524   \n",
       "중랑구   916   79.960707  414503.0  409882.0   4621.0  56774.0  1.114829   \n",
       "광진구   878   53.228621  372164.0  357211.0  14953.0  42214.0  4.017852   \n",
       "강북구   831  125.203252  330192.0  326686.0   3506.0  54813.0  1.061806   \n",
       "\n",
       "         고령자비율    cctv비율           오차  \n",
       "구별                                     \n",
       "강남구  11.072217  0.567572  1535.448801  \n",
       "양천구  11.036964  0.517107   883.686047  \n",
       "강서구  12.015794  0.150885   829.864334  \n",
       "용산구  14.836427  0.858302   769.183989  \n",
       "송파구  10.862599  0.161952   733.228369  \n",
       "서초구  11.488308  0.510093   732.849130  \n",
       "도봉구  14.717507  0.236630   622.083467  \n",
       "중랑구  13.696885  0.220988   606.918649  \n",
       "광진구  11.342849  0.235917   596.164747  \n",
       "강북구  16.600342  0.251672   594.833449  "
      ]
     },
     "execution_count": 42,
     "metadata": {},
     "output_type": "execute_result"
    }
   ],
   "source": [
    "#data_result의 오차열을 기준으로 내림차순 정렬한 후\n",
    "#상위 10개  구만 추출\n",
    "df_sort = cctv_res.sort_values(by='오차', ascending=False)\n",
    "df_sort.head(10)"
   ]
  },
  {
   "cell_type": "markdown",
   "id": "f7f11fb7",
   "metadata": {},
   "source": [
    "- 오차가 큰 상위 10개 도시 표시하기\n",
    "- 그래프에 글자 출력하는 함수(text() 사용.)\n",
    "- plt.text(x좌표,y좌표,text,fontsize)\n",
    "- 점 보다 약간 오른쪽 아래에 출력되도록 좌표를 변경후 출력\n",
    "- (for n in range(10) :\n",
    "-    plt.text(data_sort['인구수'][n]*1.02,data_sort['소계'][n]*0.98,df_sort.index[n],fontsize=15)) #약간 오른쪽 하단에 글자가 나타나도록 설정"
   ]
  },
  {
   "cell_type": "code",
   "execution_count": 43,
   "id": "3ad52df9",
   "metadata": {},
   "outputs": [],
   "source": [
    "#인구수 대비 cctv 대수의 분산 그래프 마커 크기 = 50"
   ]
  },
  {
   "cell_type": "code",
   "execution_count": 44,
   "id": "ee2b5f09-deed-41fa-aed2-719c10c88aca",
   "metadata": {},
   "outputs": [
    {
     "data": {
      "text/plain": [
       "'강남구'"
      ]
     },
     "execution_count": 44,
     "metadata": {},
     "output_type": "execute_result"
    }
   ],
   "source": [
    "df_sort['인구수'][0] * 1.02  #인구수 column의 제일 첫번째 행\n",
    "df_sort['소계'][0] * 0.98    #소계 column의 제일 첫번째 행\n",
    "df_sort.index[0]"
   ]
  },
  {
   "cell_type": "code",
   "execution_count": 48,
   "id": "7453d96f-627a-4681-b287-b7aff4bff0ca",
   "metadata": {},
   "outputs": [
    {
     "data": {
      "image/png": "[encoded data removed]",
      "text/plain": [
       "<Figure size 1000x1000 with 2 Axes>"
      ]
     },
     "metadata": {},
     "output_type": "display_data"
    }
   ],
   "source": [
    "fx = np.linspace(100000, 700000, 100)\n",
    "plt.figure(figsize=(10,10))\n",
    "plt.scatter(cctv_res['인구수'], cctv_res['소계'], s=50, c=cctv_res['오차'])\n",
    "plt.plot(fx, poly_1d(fx), ls='dashed',lw=3,color='g')\n",
    "\n",
    "#오차가 큰 10개 구를 그래프에  표시\n",
    "for n in range(10):\n",
    "    plt.text(df_sort['인구수'][n] * 1.02, df_sort['소계'][n]*0.98, df_sort.index[n], fontsize=10)\n",
    "\n",
    "plt.xlabel('인구수')\n",
    "plt.ylabel('CCTV')\n",
    "plt.colorbar(label='오차')\n",
    "plt.show() "
   ]
  },
  {
   "cell_type": "code",
   "execution_count": null,
   "id": "1bc8ecaa-a16b-46da-8b97-82e9c2874211",
   "metadata": {},
   "outputs": [],
   "source": []
  }
 ],
 "metadata": {
  "kernelspec": {
   "display_name": "Python 3 (ipykernel)",
   "language": "python",
   "name": "python3"
  },
  "language_info": {
   "codemirror_mode": {
    "name": "ipython",
    "version": 3
   },
   "file_extension": ".py",
   "mimetype": "text/x-python",
   "name": "python",
   "nbconvert_exporter": "python",
   "pygments_lexer": "ipython3",
   "version": "3.9.15"
  }
 },
 "nbformat": 4,
 "nbformat_minor": 5
}
