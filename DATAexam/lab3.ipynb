{
 "cells": [
  {
   "cell_type": "markdown",
   "id": "1aeae13d-1d49-4472-85f9-0ee40f9636d1",
   "metadata": {},
   "source": [
    "#### 11월 17일 실습2(exam1.ipynb 관련 마지막 실습)"
   ]
  },
  {
   "cell_type": "code",
   "execution_count": 10,
   "id": "f9ed9aea-fad2-4df7-9c9f-97d72d60e589",
   "metadata": {},
   "outputs": [
    {
     "name": "stdout",
     "output_type": "stream",
     "text": [
      "--뉴스 제목--\n",
      "['\"유럽 미술사 1년 넘게 연구했죠…전시회 본 빈미술관장도 \\'엄지척\\'\"', '구·군 점심시간 휴무···홍준표 \"잘못된 조치\"', '\"한철만 입고 버리지 뭐\"…동남아 뒤덮은 한국 옷 \\'쓰레기 산\\'', '의롭고 이롭다, 친환경 패션', \"'40조' 투자 보따리 푼 빈 살만..韓·사우디 26건 계약·MOU 체결\", '빅스텝 예상했던 BNP파리바 \"한은 , 이달 만장일치로 0.25%p 올릴 것\"', '\"서방 부품 대거 포함\"… 美매체, 이란 제작 드론 제재에 의문', '전문가 \"탈북민 1인가구 비율 30% 증가…지원 체계 강화해야\"', '日, 방위비 증액 위해 법인세 증세 등 제언…\"국민 부담 필요\"', '[르포]\"괜히 알면 신경쓰니까...\"연차내고 몰래 수험장 지키는 학부모들', '민생행보 이어간 이재명, \"안전 위해 비용·이윤 양보해야\"', '러, 키이우·오데사·르비우 등 우크라 전역에 미사일 공습 재개(상보)', '오등봉공원 민간특례사업 토지 강제수용', '\"군사 대응 맹렬해질 것\" 담화 직후…북, 8일 만의 도발', '‘콘크리트 바닥’ 맴도는 尹대통령 지지율, 돌파구는 어디에', '카카오 서비스 장애 피해 보상 정책 어떻게?… 협의체에 쏠리는 눈', '유동규, 유한기 유족에 \"자기들만 \\'무사안일\\' 법정서 최선 다해 밝힐 것\"', '尹, 빈 살만 사우디 왕세자와 \\'전략파트너십 위원회\\'신설…\"관계 도약 적기\"', '\"저소득층 장학금 주면 감점이라니\"‥예일·하버드, 로스쿨 평가 거부', '검찰총장, \\'10·29 참사\\' 관련 \"경찰 송치 후 책임 규명에 최선\"', '김기현 “김건희 포르노? ‘이재명 형수욕설’도 해보라..인간이길 포기”[여의도초대석]', '[오마이포토] 압수수색중인 행정안전부 재난안전관리본부', \"尹대통령, '한남동 관저' 첫 손님으로 빈 살만 왕세자 부른 이유\", \"[생애관망시네마 띵(Think)작] ‘아무도 나를 모르는 곳으로 도망치고 싶을 때'  이 영화\", '워킹맘, 근무 환경 때문에 배 속의 아기가 질병을 얻었다면?', '“페미때문에 미투 당하는걸 예방하는 교육”…공군 성폭력 예방교육 강사의 참담한 말[플랫]', '[논담] \"정부 위기대응 너무 느리고 소극적... 채권기금·한전 대책 준비해야\"', '\"만약 테러가 난다면?\"…\\'비상훈련\\' 나선 한국은행 [조미현의 BOK 워치]', \"'수능 끝난 수험생'\", '“수고했어” 박수 소리 퍼지는 수험장', '케냐 건물 붕괴 현장에 몰린 구경꾼들', '압수수색중인 행정안전부 재난안전관리본부', '뉴스홈', '사회', '정치', '경제', '국제', '문화', 'IT', '포토', '언론사별 뉴스', '배열이력', '전체뉴스', '연재', '팩트체크']\n",
      "--뉴스 카테고리--\n",
      "['문화', '사회', '경제', '경제', '경제', '경제', '국제', '정치', '국제', '사회', '정치', '국제', '정치', '사회', '정치', 'IT', '사회', '정치', '국제', '사회']\n"
     ]
    }
   ],
   "source": [
    "import requests\n",
    "from bs4 import BeautifulSoup\n",
    "import re\n",
    "\n",
    "req = requests.get('https://news.daum.net/')\n",
    "html = req.text\n",
    "soup = BeautifulSoup(html, 'html.parser')\n",
    "category = soup.select('span.txt_category')\n",
    "title = soup.select('a.link_txt')\n",
    "news_category = []\n",
    "news_title = []\n",
    "\n",
    "for dom in category:\n",
    "    news_category.append(dom.text)\n",
    "for dom in title:\n",
    "    news_title.append(dom.text.strip()) #strip()은 앞 뒤의 공백을 없애라는 함수다. dom.get_text(strip=True)를 append()의 매개변수로 줘도 된다. #dom.text.strip()\n",
    "print(\"--뉴스 제목--\")\n",
    "print(news_title)\n",
    "print(\"--뉴스 카테고리--\")\n",
    "print(news_category)\n",
    "\n",
    "#newsLength = len(news_category)\n",
    "#for i in range(newsLength):\n",
    "    #print(\"뉴스 카테고리 : \" + news_category[i])\n",
    "    #print(\"제목 : \" +news_title[i])\n",
    "    #print(\"-----------------------------------------\")   \n"
   ]
  },
  {
   "cell_type": "code",
   "execution_count": null,
   "id": "973623e4-f136-45b6-a039-19726eb223d3",
   "metadata": {},
   "outputs": [],
   "source": []
  }
 ],
 "metadata": {
  "kernelspec": {
   "display_name": "eduvenv",
   "language": "python",
   "name": "eduvenv"
  },
  "language_info": {
   "codemirror_mode": {
    "name": "ipython",
    "version": 3
   },
   "file_extension": ".py",
   "mimetype": "text/x-python",
   "name": "python",
   "nbconvert_exporter": "python",
   "pygments_lexer": "ipython3",
   "version": "3.9.15"
  }
 },
 "nbformat": 4,
 "nbformat_minor": 5
}
