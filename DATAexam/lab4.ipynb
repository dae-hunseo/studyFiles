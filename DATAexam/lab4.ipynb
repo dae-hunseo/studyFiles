{
 "cells": [
  {
   "cell_type": "markdown",
   "id": "4f94841c-a486-4c16-bdb5-4b594643a47a",
   "metadata": {},
   "source": [
    "# 11/18 실습1(동적 수집)(exam3.ipynb 관련)"
   ]
  },
  {
   "cell_type": "markdown",
   "id": "9540be0d-b382-49df-bb98-a378335a5dc1",
   "metadata": {
    "tags": []
   },
   "source": [
    "### CSS선택자 사용"
   ]
  },
  {
   "cell_type": "code",
   "execution_count": 7,
   "id": "2057ee58-aea2-44a4-b50d-e2b4a617f9ff",
   "metadata": {},
   "outputs": [],
   "source": [
    "from selenium import webdriver\n",
    "from selenium.webdriver.common.keys import Keys        #타겟객체.send_keys(Keys.ENTER)를 위해 필요\n",
    "from selenium.webdriver.common.by import By            #find_element(By. 할때 By모듈 사용을 위해 필요\n",
    "from selenium.webdriver.chrome.service import Service  #webdriver.Chrome(service=Service('C:/Temp/chromedriver'))를 위해 필요\n",
    "\n",
    "driver = webdriver.Chrome(service=Service('C:/Temp/chromedriver')) #셀레니움에 의해 제어되는 브라우저를 띄운다.\n",
    "driver.get('http://www.naver.com') #주소로 이동한다.\n",
    "target=driver.find_element(By.CSS_SELECTOR, \"[name = 'query']\") \n",
    "target.send_keys('파이썬')  #'파이썬'이라는 키를 보낸다.(검색어 지정)\n",
    "target.send_keys(Keys.ENTER) #키를 보낸다(검색을 실행한다)\n"
   ]
  },
  {
   "cell_type": "markdown",
   "id": "f37ee758-7fc0-4cbc-8623-85c27518e395",
   "metadata": {},
   "source": [
    "### id속성 사용"
   ]
  },
  {
   "cell_type": "code",
   "execution_count": 8,
   "id": "57754ed2-4ecd-4081-bcad-40f0aa23e06e",
   "metadata": {},
   "outputs": [],
   "source": [
    "target=driver.find_element(By.ID,'query')\n",
    "target.send_keys('파이썬')  \n",
    "target.send_keys(Keys.ENTER) "
   ]
  },
  {
   "cell_type": "markdown",
   "id": "2033ca50-1256-4f98-a8a1-8a63b0f071ce",
   "metadata": {},
   "source": [
    "### class 속성 사용"
   ]
  },
  {
   "cell_type": "code",
   "execution_count": 9,
   "id": "036f23dc-39d9-496c-bb5b-17dbb0a5fbf6",
   "metadata": {},
   "outputs": [],
   "source": [
    "target=driver.find_element(By.CLASS_NAME,'input_text')\n",
    "target.send_keys('파이썬')  \n",
    "target.send_keys(Keys.ENTER)"
   ]
  },
  {
   "cell_type": "code",
   "execution_count": 10,
   "id": "5b5d3a29-22d2-4408-976c-cd4d5da6b108",
   "metadata": {},
   "outputs": [],
   "source": [
    "driver.quit() #셀레니움 실행중인 창이 사라진다."
   ]
  },
  {
   "cell_type": "code",
   "execution_count": null,
   "id": "1737bdae-99e7-4dc7-a66d-139eacb049ee",
   "metadata": {},
   "outputs": [],
   "source": []
  }
 ],
 "metadata": {
  "kernelspec": {
   "display_name": "eduvenv",
   "language": "python",
   "name": "eduvenv"
  },
  "language_info": {
   "codemirror_mode": {
    "name": "ipython",
    "version": 3
   },
   "file_extension": ".py",
   "mimetype": "text/x-python",
   "name": "python",
   "nbconvert_exporter": "python",
   "pygments_lexer": "ipython3",
   "version": "3.9.15"
  }
 },
 "nbformat": 4,
 "nbformat_minor": 5
}
