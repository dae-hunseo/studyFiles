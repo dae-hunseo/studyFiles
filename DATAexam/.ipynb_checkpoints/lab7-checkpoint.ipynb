{
 "cells": [
  {
   "cell_type": "markdown",
   "id": "a893f36c-7c0f-4306-b156-79bb508601db",
   "metadata": {},
   "source": [
    "# 11월 21일 실습2(exam4.ipynb 관련)"
   ]
  },
  {
   "cell_type": "markdown",
   "id": "4e2cefea-572b-4e6b-82bf-6348e4a9a2ed",
   "metadata": {},
   "source": [
    "#### <span style=\"color:blue\">1번</span>"
   ]
  },
  {
   "cell_type": "code",
   "execution_count": 68,
   "id": "0a559492-e6b1-445c-b38e-bb3871233bd8",
   "metadata": {},
   "outputs": [
    {
     "name": "stdout",
     "output_type": "stream",
     "text": [
      "  name  kor  eng  mat class\n",
      "0   둘리   90   99   90    1반\n",
      "1   또치   80   98   70    2반\n",
      "2  도우너   70   97   70    1반\n",
      "3  희동이   70   46   60    2반\n"
     ]
    }
   ],
   "source": [
    "import pandas as pd\n",
    "data = {\n",
    "    'name':['둘리','또치','도우너','희동이'],\n",
    "    'kor':[90, 80, 70, 70],\n",
    "    'eng':[99, 98, 97, 46],\n",
    "    'mat':[90, 70, 70, 60]\n",
    "}\n",
    "df = pd.DataFrame(data)\n",
    "df['class'] = ['1반', '2반', '1반', '2반'] #책 31pg\n",
    "print(df)"
   ]
  },
  {
   "cell_type": "markdown",
   "id": "54ac7d92-5479-46a0-a9c1-585af831efa6",
   "metadata": {},
   "source": [
    "#### <span style=\"color:blue\">2번</span>"
   ]
  },
  {
   "cell_type": "code",
   "execution_count": 69,
   "id": "50b5bc7e-6b00-44d0-85c5-ef91ac14fc55",
   "metadata": {},
   "outputs": [
    {
     "name": "stdout",
     "output_type": "stream",
     "text": [
      "  name  kor  eng  mat class\n",
      "0   둘리   90   99   90    1반\n",
      "1   또치   80   98   70    2반\n",
      "2  도우너   70   97   70    1반\n",
      "3  희동이   70   46   60    2반\n",
      "4  마이콜   80   80   80    1반\n"
     ]
    }
   ],
   "source": [
    "df.loc[4] = ['마이콜', 80, 80, 80, '1반'] #책 32pg\n",
    "print(df)"
   ]
  },
  {
   "cell_type": "markdown",
   "id": "86ff9417-395e-4ffd-b05e-6570537647de",
   "metadata": {},
   "source": [
    "#### <span style=\"color:blue\">3번</span>"
   ]
  },
  {
   "cell_type": "code",
   "execution_count": 70,
   "id": "311908d8-70e4-4bf3-be73-1fccc1cc4772",
   "metadata": {},
   "outputs": [
    {
     "name": "stdout",
     "output_type": "stream",
     "text": [
      "      국어  영어  수학 반번호\n",
      "name                \n",
      "둘리    90  99  90  1반\n",
      "또치    80  98  70  2반\n",
      "도우너   70  97  70  1반\n",
      "희동이   70  46  60  2반\n",
      "마이콜   80  80  80  1반\n"
     ]
    }
   ],
   "source": [
    "df = df.set_index('name') #책 39pg\n",
    "df.columns = ['국어','영어','수학','반번호'] #책 15pg\n",
    "print(df)"
   ]
  },
  {
   "cell_type": "markdown",
   "id": "28dbae7e-ab2f-4f10-8260-53e12e033b7c",
   "metadata": {},
   "source": [
    "#### <span style=\"color:blue\">4번</span>"
   ]
  },
  {
   "cell_type": "code",
   "execution_count": 71,
   "id": "08334f61-8f28-4ef8-8bd5-9d15a87fff64",
   "metadata": {},
   "outputs": [
    {
     "name": "stdout",
     "output_type": "stream",
     "text": [
      "       국어   영어   수학 반번호\n",
      "name                   \n",
      "둘리     90   99   90  1반\n",
      "또치     80   98   70  2반\n",
      "도우너    70   97   70  1반\n",
      "희동이    70   90   60  2반\n",
      "마이콜   100  100  100  1반\n"
     ]
    }
   ],
   "source": [
    "df.loc['마이콜'] = [100, 100, 100, '1반']\n",
    "df.loc['희동이','영어'] = 90 #['희동이']['영어']로 하면 에러가 남. 이런 방식은 읽는건 괜찮은데 대입하는건 보장하지 못한다고 에러코드에 나와있음.\n",
    "print(df)"
   ]
  },
  {
   "cell_type": "markdown",
   "id": "fd5433e0-cc78-48d9-bdf3-072a1ae1bf61",
   "metadata": {},
   "source": [
    "#### <span style=\"color:blue\">5번</span>"
   ]
  },
  {
   "cell_type": "code",
   "execution_count": 75,
   "id": "586dc6da-5049-417b-8926-d762c16bfd98",
   "metadata": {},
   "outputs": [
    {
     "name": "stdout",
     "output_type": "stream",
     "text": [
      "   index   성명   국어   영어   수학 반번호\n",
      "0      0   둘리   90   99   90  1반\n",
      "1      1   또치   80   98   70  2반\n",
      "2      2  도우너   70   97   70  1반\n",
      "3      3  희동이   70   90   60  2반\n",
      "4      4  마이콜  100  100  100  1반\n"
     ]
    }
   ],
   "source": [
    "df.reset_index(inplace=True) #책 42pg\n",
    "df.rename(columns={'name':'성명'}, inplace=True)\n",
    "print(df)"
   ]
  },
  {
   "cell_type": "code",
   "execution_count": 74,
   "id": "a9212297-ed4d-4c00-af82-20afe90013bb",
   "metadata": {},
   "outputs": [
    {
     "name": "stdout",
     "output_type": "stream",
     "text": [
      "    성명   국어   영어   수학 반번호\n",
      "0   둘리   90   99   90  1반\n",
      "1   또치   80   98   70  2반\n",
      "2  도우너   70   97   70  1반\n",
      "3  희동이   70   90   60  2반\n",
      "4  마이콜  100  100  100  1반\n"
     ]
    }
   ],
   "source": []
  },
  {
   "cell_type": "code",
   "execution_count": null,
   "id": "4b6d075e-4905-45fa-8736-32f9ed8b988d",
   "metadata": {},
   "outputs": [],
   "source": []
  }
 ],
 "metadata": {
  "kernelspec": {
   "display_name": "eduvenv",
   "language": "python",
   "name": "eduvenv"
  },
  "language_info": {
   "codemirror_mode": {
    "name": "ipython",
    "version": 3
   },
   "file_extension": ".py",
   "mimetype": "text/x-python",
   "name": "python",
   "nbconvert_exporter": "python",
   "pygments_lexer": "ipython3",
   "version": "3.9.15"
  }
 },
 "nbformat": 4,
 "nbformat_minor": 5
}
