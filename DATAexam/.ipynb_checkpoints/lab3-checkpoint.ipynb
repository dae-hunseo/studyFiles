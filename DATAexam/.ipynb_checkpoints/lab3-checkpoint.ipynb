{
 "cells": [
  {
   "cell_type": "markdown",
   "id": "1aeae13d-1d49-4472-85f9-0ee40f9636d1",
   "metadata": {},
   "source": [
    "#### 11월 17일 실습2(exam1.ipynb 관련 마지막 실습)"
   ]
  },
  {
   "cell_type": "code",
   "execution_count": 7,
   "id": "f9ed9aea-fad2-4df7-9c9f-97d72d60e589",
   "metadata": {},
   "outputs": [
    {
     "name": "stdout",
     "output_type": "stream",
     "text": [
      "--뉴스 제목--\n",
      "[\"경기~서울 운행 광역버스 내일부터 입석 중단…'출근전쟁' 우려\", '\\'가세연\\' 김세의, 국민의힘 최고위원직 출마 \"목표는 총선 승리\"', \"방공무기 급한 사우디, 국산 '천궁' 등 검토…'제2의 폴란드' 될까\", '수험표 분실·시험장 착각…위급상황 속 경찰 활약 잇따라', \"'뜨거운 감자' 금투세 유예 두고 與野 설전... 논의 향배는?\", \"사우디 실권자 '빈 살만' 방한…네옴시티 수주는 어떤 의미?\", '지하철서 총 쏘고 돌아다니며 女 마구 팼다…이란 경찰 파문 [영상]', '\"통역사 없다, 한덕수엔 기회\" 尹이 내린 APEC 특명은', '수학 작년만큼 어려웠다…총점 크기에 결정적 영향 끼칠 듯', '“다른 당직자라면?”조응천 말 맞았네…‘민주당 오리알’된 노웅래', '尹 관저 첫 손님은 \\'빈 살만\\'..\"외빈에 각별한 예우\"[빈 살만 방한]', '[단독] SK스퀘어, 11번가·티맵 등 자회사 지분 매각 추진', '‘가세연’ 김세의 “내년 국민의힘 최고위원 선거 출마할 것”', '전용기 \"국방부·경찰청, 경호처 군·경 지휘권 반대…거둬들여야\"', '실질소득 2.8%↓, 5분기만에 감소‥먹거리 소비부터 줄였다', \"'노무현 부부 명예훼손' 정진석 의원 정식재판 회부\", '작년 \\'수능 소송\\' 주인공들 \"올해는 같은 문제 없기를\"', '\"만약 테러가 난다면?\"…\\'비상훈련\\' 나선 한국은행 [조미현의 BOK 워치]', \"개 53마리 '입양 비행기' 추락…골프장 불시착 졸졸졸 걸어나왔다\", '빈 살만 회동…한화 김동관 부회장, 해외사업 전방위 확대', '\\'노란봉투법\\' 손배 제한 두고 \"재산권 침해\"vs\"청구가 권리남용\"', '“페미때문에 미투 당하는걸 예방하는 교육”…공군 성폭력 예방교육 강사의 참담한 말[플랫]', '[논담] \"정부 위기대응 너무 느리고 소극적... 채권기금·한전 대책 준비해야\"', '\"만약 테러가 난다면?\"…\\'비상훈련\\' 나선 한국은행 [조미현의 BOK 워치]', \"작지만 강한 IT 매체, '현실의 벽'에 굴복하다\", '[올댓차이나] 대만 증시, 나스닥 약세에 0.01% 소폭 속락 마감', '소비자금융 접는 씨티은행 기업대출도 쭉 빠진 이유', '오백년 가까이 된 은행나무와 근대 건축물이 있는 곳 [서울을 그리는 어반스케쳐]', '이강덕 포항시장, ‘수능 대박’ 응원', '투표 자료 준비하는 네팔 선거관리위원회 직원들', \"'검은 마스크' 손흥민, 오늘도 훈련\", '마크롱과 프랑스 외교팀, 쁘라윳 태국 총리 측과 기념 촬영', '뉴스홈', '사회', '정치', '경제', '국제', '문화', 'IT', '포토', '언론사별 뉴스', '배열이력', '전체뉴스', '연재', '팩트체크']\n",
      "--뉴스 카테고리--\n",
      "['정치', '정치', '정치', '사회', '정치', '사회', '국제', '정치', '사회', '정치', '정치', '경제', '정치', '정치', '경제', '사회', '사회', '경제', '국제', '경제']\n"
     ]
    }
   ],
   "source": [
    "import requests\n",
    "from bs4 import BeautifulSoup\n",
    "import re\n",
    "\n",
    "req = requests.get('https://news.daum.net/')\n",
    "html = req.text\n",
    "soup = BeautifulSoup(html, 'html.parser')\n",
    "category = soup.select('span.txt_category')\n",
    "title = soup.select('a.link_txt')\n",
    "news_category = []\n",
    "news_title = []\n",
    "\n",
    "for dom in category:\n",
    "    news_category.append(dom.text)\n",
    "for dom in title:\n",
    "    news_title.append(dom.text.strip()) #strip()은 앞 뒤의 공백을 없애라는 함수다.\n",
    "print(\"--뉴스 제목--\")\n",
    "print(news_title)\n",
    "print(\"--뉴스 카테고리--\")\n",
    "print(news_category)\n",
    "\n",
    "#newsLength = len(news_category)\n",
    "#for i in range(newsLength):\n",
    "    #print(\"뉴스 카테고리 : \" + news_category[i])\n",
    "    #print(\"제목 : \" +news_title[i])\n",
    "    #print(\"-----------------------------------------\")   \n"
   ]
  },
  {
   "cell_type": "code",
   "execution_count": null,
   "id": "973623e4-f136-45b6-a039-19726eb223d3",
   "metadata": {},
   "outputs": [],
   "source": []
  }
 ],
 "metadata": {
  "kernelspec": {
   "display_name": "eduvenv",
   "language": "python",
   "name": "eduvenv"
  },
  "language_info": {
   "codemirror_mode": {
    "name": "ipython",
    "version": 3
   },
   "file_extension": ".py",
   "mimetype": "text/x-python",
   "name": "python",
   "nbconvert_exporter": "python",
   "pygments_lexer": "ipython3",
   "version": "3.9.15"
  }
 },
 "nbformat": 4,
 "nbformat_minor": 5
}
