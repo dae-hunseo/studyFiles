{
 "cells": [
  {
   "cell_type": "markdown",
   "id": "68304730-9eea-467c-9942-7a5540cdf7c5",
   "metadata": {},
   "source": [
    "# 11월 18일 실습2(동적 수집)(exam3.ipynb 관련)"
   ]
  },
  {
   "cell_type": "code",
   "execution_count": 38,
   "id": "2f088b67-cc60-4370-ba31-5e08d2848c59",
   "metadata": {},
   "outputs": [
    {
     "name": "stdout",
     "output_type": "stream",
     "text": [
      "8\n",
      "1500\n"
     ]
    },
    {
     "ename": "AttributeError",
     "evalue": "'str' object has no attribute 'content'",
     "output_type": "error",
     "traceback": [
      "\u001b[1;31m---------------------------------------------------------------------------\u001b[0m",
      "\u001b[1;31mAttributeError\u001b[0m                            Traceback (most recent call last)",
      "Cell \u001b[1;32mIn [38], line 35\u001b[0m\n\u001b[0;32m     31\u001b[0m     prices[i]\u001b[38;5;241m=\u001b[39m re\u001b[38;5;241m.\u001b[39msub(\u001b[38;5;124m\"\u001b[39m\u001b[38;5;124m[,원]\u001b[39m\u001b[38;5;124m\"\u001b[39m, \u001b[38;5;124m'\u001b[39m\u001b[38;5;124m'\u001b[39m, prices[i]\u001b[38;5;241m.\u001b[39mtext)\n\u001b[0;32m     32\u001b[0m     \u001b[38;5;66;03m#prices[i] = prices[i].text.replace(',', '')\u001b[39;00m\n\u001b[0;32m     33\u001b[0m     \u001b[38;5;66;03m#prices[i] = prices[i].text.replace('원', '')\u001b[39;00m\n\u001b[1;32m---> 35\u001b[0m     \u001b[38;5;28mprint\u001b[39m(names[i]\u001b[38;5;241m.\u001b[39mtext, \u001b[43mprices\u001b[49m\u001b[43m[\u001b[49m\u001b[43mi\u001b[49m\u001b[43m]\u001b[49m\u001b[38;5;241;43m.\u001b[39;49m\u001b[43mcontent\u001b[49m, sep\u001b[38;5;241m=\u001b[39m\u001b[38;5;124m\"\u001b[39m\u001b[38;5;124m, \u001b[39m\u001b[38;5;124m\"\u001b[39m, end\u001b[38;5;241m=\u001b[39m\u001b[38;5;124m\"\u001b[39m\u001b[38;5;130;01m\\n\u001b[39;00m\u001b[38;5;124m\"\u001b[39m) \u001b[38;5;66;03m#한 페이지에 원래 50~60개씩 보여주는데 10개만 출력된다. 실제로 웹페이지에서 스크롤바를 내려보면 스크롤바의 크기가 줄어들면서 더 나온다. #스타벅스 홈페이지에서 3개만 있다가 스크롤바를 내리면 더 나왔던것과 같다. 즉 스크롤바 처리를 해줘야 한다.\u001b[39;00m\n\u001b[0;32m     36\u001b[0m \u001b[38;5;28mprint\u001b[39m(\u001b[38;5;124m\"\u001b[39m\u001b[38;5;124m------------------------------------------------\u001b[39m\u001b[38;5;124m\"\u001b[39m)\n\u001b[0;32m     37\u001b[0m \u001b[38;5;66;03m#linkurl = '#app-root > div > div.XUrfU > div.zRM9F > a:nth-child(7)' #다음페이지로 옮겨가는 '>버튼'의 css선택자.\u001b[39;00m\n",
      "\u001b[1;31mAttributeError\u001b[0m: 'str' object has no attribute 'content'"
     ]
    }
   ],
   "source": [
    "#소스1\n",
    "from selenium import webdriver\n",
    "from selenium.webdriver.common.keys import Keys \n",
    "from selenium.webdriver.chrome.service import Service\n",
    "from selenium.webdriver.common.by import By\n",
    "import time\n",
    "import re\n",
    "\n",
    "goodsname = list()\n",
    "goodsprice = list()\n",
    "\n",
    "driver = webdriver.Chrome(service=Service('C:/Temp/chromedriver'))\n",
    "driver.implicitly_wait(3) \n",
    "driver.get('http://gs25.gsretail.com/gscvs/ko/products/event-goods') \n",
    "time.sleep(2)\n",
    "\n",
    "byLinkText = driver.find_element(By.LINK_TEXT,'2+1 행사') #하이퍼링크 텍스트(컨텐트)가 정확히 '2+1 행사'인 것을 찾는다.\n",
    "byLinkText.click()\n",
    "\n",
    "for i in range(1, 10) : #1이상 10미만(9번 반복)\n",
    "    names = driver.find_elements(By.CSS_SELECTOR, \"#contents > div.cnt > div.cnt_section.mt50 > div > div > div:nth-child(5) > ul > li > div > p.tit\") #상품명\n",
    "    prices = driver.find_elements(By.CSS_SELECTOR, \"#contents > div.cnt > div.cnt_section.mt50 > div > div > div:nth-child(5) > ul > li > div > p.price > span\") #가격\n",
    "    print(len(names))\n",
    "    if len(names) == 0 :\n",
    "        print(\"추출되는 상품이 더 이상 없다.\")\n",
    "        break #while True로 된 무한루프 종료\n",
    "    #for name in names :\n",
    "        #print(name.tag_name, \":\", name.text)\n",
    "    for i in range(len(names)) : #한 페이지에서 추출된 개수만큼 반복하여 화면에 내보낸다.\n",
    "        print(re.sub(\"[,원]\", '', prices[i].text)) #이건 exam1.ipynb 참고해야 한다.\n",
    "        prices[i]= re.sub(\"[,원]\", '', prices[i].text)\n",
    "        #prices[i] = prices[i].text.replace(',', '')\n",
    "        #prices[i] = prices[i].text.replace('원', '')\n",
    "        \n",
    "        print(names[i].text, prices[i].text, sep=\", \", end=\"\\n\") #한 페이지에 원래 50~60개씩 보여주는데 10개만 출력된다. 실제로 웹페이지에서 스크롤바를 내려보면 스크롤바의 크기가 줄어들면서 더 나온다. #스타벅스 홈페이지에서 3개만 있다가 스크롤바를 내리면 더 나왔던것과 같다. 즉 스크롤바 처리를 해줘야 한다.\n",
    "    print(\"------------------------------------------------\")\n",
    "    #linkurl = '#app-root > div > div.XUrfU > div.zRM9F > a:nth-child(7)' #다음페이지로 옮겨가는 '>버튼'의 css선택자.\n",
    "    try :\n",
    "        #linkNum = driver.find_element(By.CSS_SELECTOR, linkurl)\n",
    "        nextBtn = driver.find_element(By.CSS_SELECTOR, \"#contents > div.cnt > div.cnt_section.mt50 > div > div > div:nth-child(5) > div > a.next\")\n",
    "    except : #맨 끝페이지까지 가면 꺽새괄호버튼(다음페이지로 가는 버튼)이 사라지니까 무한반복문을 종료시킴\n",
    "        print(\"더 이상 다음 페이지 없음\")\n",
    "        break\n",
    "    nextBtn.click()  #클릭이벤트 발생시킨다.\n",
    "    time.sleep(5) #클릭이벤트와 관련해서 시간을 기다려주는 것으로 기억한다. \n",
    "print(\"스크래핑 종료\")\n",
    "#driver.quit() #브라우저 창을 닫는다.\n",
    "\n",
    "#매 페이지마다 추출한 엘리먼트들 리스트에 저장하고\n",
    "#이제 가격에서 쉼표랑 '원' 때네고\n",
    "#csv 파일로 저장(선택임)하면 된다."
   ]
  },
  {
   "cell_type": "code",
   "execution_count": null,
   "id": "09e3e154-737b-4f4f-a4f7-2f60e36e5177",
   "metadata": {},
   "outputs": [],
   "source": []
  },
  {
   "cell_type": "code",
   "execution_count": null,
   "id": "546fb4e1-b809-44e4-b86c-705d8f344c12",
   "metadata": {},
   "outputs": [],
   "source": []
  }
 ],
 "metadata": {
  "kernelspec": {
   "display_name": "eduvenv",
   "language": "python",
   "name": "eduvenv"
  },
  "language_info": {
   "codemirror_mode": {
    "name": "ipython",
    "version": 3
   },
   "file_extension": ".py",
   "mimetype": "text/x-python",
   "name": "python",
   "nbconvert_exporter": "python",
   "pygments_lexer": "ipython3",
   "version": "3.9.15"
  }
 },
 "nbformat": 4,
 "nbformat_minor": 5
}
