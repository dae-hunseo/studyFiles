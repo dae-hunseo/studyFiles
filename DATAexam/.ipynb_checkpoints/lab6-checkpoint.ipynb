{
 "cells": [
  {
   "cell_type": "markdown",
   "id": "be78bfa8-673c-4d3c-ac92-781884079e65",
   "metadata": {},
   "source": [
    "# 11월 21일 실습1(exam4.ipynb 관련)"
   ]
  },
  {
   "cell_type": "markdown",
   "id": "7f2c7c1f-5827-46a3-9c77-a9aa47492709",
   "metadata": {},
   "source": [
    "#### <span style=\"color:blue\">문제1</span>"
   ]
  },
  {
   "cell_type": "code",
   "execution_count": 2,
   "id": "09f57bd4-4fac-4da3-b795-c230963558df",
   "metadata": {},
   "outputs": [
    {
     "name": "stdout",
     "output_type": "stream",
     "text": [
      "<class 'pandas.core.series.Series'>\n",
      "\n",
      "\n",
      "0    10\n",
      "1    20\n",
      "2    30\n",
      "3    40\n",
      "4    50\n",
      "dtype: int64\n"
     ]
    }
   ],
   "source": [
    "# 예제 1-1 참고\n",
    "# pandas 불러오기 \n",
    "import pandas as pd\n",
    "\n",
    "list_data = [10, 20, 30, 40, 50]\n",
    "\n",
    "sr = pd.Series(list_data)\n",
    "\n",
    "# 변수 sr의 자료형 출력\n",
    "print(type(sr))\n",
    "print('\\n')\n",
    "\n",
    "# 변수 sr에 저장되어 있는 시리즈 객체를 출력\n",
    "print(sr)"
   ]
  },
  {
   "cell_type": "markdown",
   "id": "bd425dce-aef2-4d9f-b142-80af9cadbc35",
   "metadata": {},
   "source": [
    "#### <span style=\"color:blue\">문제2</span>"
   ]
  },
  {
   "cell_type": "code",
   "execution_count": 4,
   "id": "007ca3fb-ebfe-4e4d-a518-a8eb4440c115",
   "metadata": {},
   "outputs": [
    {
     "name": "stdout",
     "output_type": "stream",
     "text": [
      "<class 'pandas.core.series.Series'>\n",
      "\n",
      "\n",
      "a    1\n",
      "b    2\n",
      "c    3\n",
      "d    4\n",
      "e    5\n",
      "dtype: int64\n"
     ]
    }
   ],
   "source": [
    "import pandas as pd\n",
    "\n",
    "# k:v 구조를 갖는 딕셔너리를 만들고, 변수 dict_data에 저장\n",
    "dict_data = {'a':1, 'b':2, 'c':3, 'd':4, 'e':5}\n",
    "\n",
    "# 판다스 Series() 함수로 딕셔너리(dict_data)를 시리즈로 변환. 변수 sr에 저장 \n",
    "sr = pd.Series(dict_data)\n",
    "\n",
    "# 변수 sr의 자료형 출력\n",
    "print(type(sr))\n",
    "print('\\n')\n",
    "\n",
    "# 변수 sr에 저장되어 있는 시리즈 객체를 출력\n",
    "print(sr)"
   ]
  },
  {
   "cell_type": "markdown",
   "id": "705bf054-6d79-46a6-a1d5-1f3189236594",
   "metadata": {},
   "source": [
    "#### <span style=\"color:blue\">문제3</span>"
   ]
  },
  {
   "cell_type": "code",
   "execution_count": 5,
   "id": "ed0923ab-ccb9-4de4-8ac9-bbe86dccd4bf",
   "metadata": {},
   "outputs": [
    {
     "name": "stdout",
     "output_type": "stream",
     "text": [
      "<class 'pandas.core.series.Series'>\n",
      "\n",
      "\n",
      "학생1     둘리\n",
      "학생2     또치\n",
      "학생3    도우너\n",
      "학생4    희동이\n",
      "학생5    마이콜\n",
      "dtype: object\n"
     ]
    }
   ],
   "source": [
    "import pandas as pd\n",
    "\n",
    "# k:v 구조를 갖는 딕셔너리를 만들고, 변수 dict_data에 저장\n",
    "dict_data = {'학생1':'둘리', '학생2':'또치', '학생3':'도우너', '학생4':'희동이', '학생5':'마이콜'}\n",
    "\n",
    "# 판다스 Series() 함수로 딕셔너리(dict_data)를 시리즈로 변환. 변수 sr에 저장 \n",
    "sr = pd.Series(dict_data)\n",
    "\n",
    "# 변수 sr의 자료형 출력\n",
    "print(type(sr))\n",
    "print('\\n')\n",
    "\n",
    "# 변수 sr에 저장되어 있는 시리즈 객체를 출력\n",
    "print(sr)"
   ]
  },
  {
   "cell_type": "markdown",
   "id": "cc7497bd-a7a9-43e2-860c-c79089d1ca75",
   "metadata": {},
   "source": [
    "#### <span style=\"color:blue\">문제4</span>"
   ]
  },
  {
   "cell_type": "code",
   "execution_count": 6,
   "id": "d4849250-2d39-4901-9eb0-2dec9b5386fc",
   "metadata": {},
   "outputs": [
    {
     "name": "stdout",
     "output_type": "stream",
     "text": [
      "<class 'pandas.core.series.Series'>\n",
      "\n",
      "\n",
      "학생1     둘리\n",
      "학생2     또치\n",
      "학생3    도우너\n",
      "학생4    희동이\n",
      "학생5    마이콜\n",
      "dtype: object\n"
     ]
    }
   ],
   "source": [
    "import pandas as pd\n",
    "\n",
    "# k:v 구조를 갖는 딕셔너리를 만들고, 변수 dict_data에 저장\n",
    "list_data = {'둘리', '또치', '도우너', '희동이', '마이콜'}\n",
    "\n",
    "# 판다스 Series() 함수로 딕셔너리(dict_data)를 시리즈로 변환. 변수 sr에 저장 \n",
    "sr = pd.Series(dict_data, index=['학생1', '학생2', '학생3', '학생4', '학생5'])\n",
    "\n",
    "# 변수 sr의 자료형 출력\n",
    "print(type(sr))\n",
    "print('\\n')\n",
    "\n",
    "# 변수 sr에 저장되어 있는 시리즈 객체를 출력\n",
    "print(sr)"
   ]
  },
  {
   "cell_type": "markdown",
   "id": "778036f5-de0d-42bb-a199-c92b9ce7a1ba",
   "metadata": {},
   "source": [
    "#### <span style=\"color:blue\">문제5</span>"
   ]
  },
  {
   "cell_type": "code",
   "execution_count": 16,
   "id": "531f12c7-454b-48c9-abdd-73d913af546a",
   "metadata": {},
   "outputs": [
    {
     "name": "stdout",
     "output_type": "stream",
     "text": [
      "[시리즈 sr 출력]\n",
      "A형     34.2\n",
      "B형     27.1\n",
      "O형     26.7\n",
      "AB형    11.5\n",
      "dtype: float64\n",
      "[시리즈 sr에서 인덱싱과 슬라이싱하여 출력(숫자 인덱스 사용)]\n",
      "34.2\n",
      "11.5\n",
      "27.1\n",
      "B형     27.1\n",
      "O형     26.7\n",
      "AB형    11.5\n",
      "dtype: float64\n",
      "[시리즈 sr에서 인덱싱과 슬라이싱하여 출력(이름 인덱스 사용)]\n",
      "34.2\n",
      "11.5\n",
      "27.1\n",
      "B형     27.1\n",
      "O형     26.7\n",
      "AB형    11.5\n",
      "dtype: float64\n",
      "시리즈 sr의 크기 출력\n",
      "4\n",
      "시리즈 sr의 인덱스 출력\n",
      "Index(['A형', 'B형', 'O형', 'AB형'], dtype='object')\n",
      "시리즈 sr의 데이터 값 출력\n",
      "[34.2 27.1 26.7 11.5]\n"
     ]
    }
   ],
   "source": [
    "import pandas as pd\n",
    "\n",
    "blood = ['A형', 'B형', 'O형', 'AB형']\n",
    "st = [34.2, 27.1, 26.7, 11.5]\n",
    "sr = pd.Series(st, index=blood)\n",
    "print(\"[시리즈 sr 출력]\")\n",
    "print(sr)\n",
    "print(\"[시리즈 sr에서 인덱싱과 슬라이싱하여 출력(숫자 인덱스 사용)]\")\n",
    "print(sr[0])\n",
    "print(sr[3])\n",
    "print(sr[1])\n",
    "print(sr[1:4]) #숫자 인덱스는 end값은 포함되지 않는다.\n",
    "print(\"[시리즈 sr에서 인덱싱과 슬라이싱하여 출력(이름 인덱스 사용)]\")\n",
    "print(sr['A형'])\n",
    "print(sr['AB형'])\n",
    "print(sr['B형'])\n",
    "print(sr['B형':'AB형'])\n",
    "print(\"시리즈 sr의 크기 출력\")\n",
    "print(len(sr))\n",
    "print(\"시리즈 sr의 인덱스 출력\")\n",
    "print(sr.index)\n",
    "print(\"시리즈 sr의 데이터 값 출력\")\n",
    "print(sr.values)"
   ]
  },
  {
   "cell_type": "markdown",
   "id": "681603f9-b9be-4cd4-9fa5-daf1463fd896",
   "metadata": {},
   "source": [
    "#### <span style=\"color:blue\">문제6</span>"
   ]
  },
  {
   "cell_type": "code",
   "execution_count": 18,
   "id": "98d3b13a-cc70-45d3-8db6-cecc282a8f71",
   "metadata": {},
   "outputs": [
    {
     "name": "stdout",
     "output_type": "stream",
     "text": [
      "  name  kor  eng  mat\n",
      "0   둘리   90   99   90\n",
      "1   또치   80   98   70\n",
      "2  도우너   70   97   70\n",
      "3  희동이   70   46   60\n"
     ]
    }
   ],
   "source": [
    "import pandas as pd\n",
    "\n",
    "\n",
    "name = ['둘리','또치','도우너','희동이']\n",
    "kor = [90, 80, 70, 70]\n",
    "eng = [99, 98, 97, 46]\n",
    "mat = [90, 70, 70, 60]\n",
    "dict_data = {'name':name, 'kor':kor, 'eng':eng, 'mat':mat}\n",
    "\n",
    "df = pd.DataFrame(dict_data)\n",
    "print(df)"
   ]
  },
  {
   "cell_type": "markdown",
   "id": "3e9d5d67-6a6e-45cd-9981-4ba219a65e9b",
   "metadata": {},
   "source": [
    "#### <span style=\"color:blue\">문제7</span>"
   ]
  },
  {
   "cell_type": "code",
   "execution_count": 19,
   "id": "c60735ef-38ff-4a2c-b7a1-4038291a0b15",
   "metadata": {},
   "outputs": [
    {
     "name": "stdout",
     "output_type": "stream",
     "text": [
      "    name  kor  eng  mat\n",
      "학생1   둘리   90   99   90\n",
      "학생2   또치   80   98   70\n",
      "학생3  도우너   70   97   70\n",
      "학생4  희동이   70   46   60\n"
     ]
    }
   ],
   "source": [
    "import pandas as pd\n",
    "\n",
    "\n",
    "name = ['둘리','또치','도우너','희동이']\n",
    "kor = [90, 80, 70, 70]\n",
    "eng = [99, 98, 97, 46]\n",
    "mat = [90, 70, 70, 60]\n",
    "dict_data = {'name':name, 'kor':kor, 'eng':eng, 'mat':mat}\n",
    "\n",
    "df = pd.DataFrame(dict_data)\n",
    "\n",
    "df.index = ['학생1', '학생2', '학생3', '학생4'] #행의 인덱스명 설정\n",
    "print(df)"
   ]
  },
  {
   "cell_type": "markdown",
   "id": "97ea1d0a-8021-4067-91df-a7f427dc3f06",
   "metadata": {},
   "source": [
    "#### <span style=\"color:blue\">문제8</span>"
   ]
  },
  {
   "cell_type": "code",
   "execution_count": 23,
   "id": "e92362bd-e2c1-479b-b1aa-579aabbbf7ca",
   "metadata": {},
   "outputs": [
    {
     "name": "stdout",
     "output_type": "stream",
     "text": [
      "    dooly  doochi  dounar  heedong\n",
      "st1    둘리      90      99       90\n",
      "st2    또치      80      98       70\n",
      "st3   도우너      70      97       70\n",
      "st4   희동이      70      46       60\n"
     ]
    }
   ],
   "source": [
    "import pandas as pd\n",
    "\n",
    "\n",
    "name = ['둘리','또치','도우너','희동이']\n",
    "kor = [90, 80, 70, 70]\n",
    "eng = [99, 98, 97, 46]\n",
    "mat = [90, 70, 70, 60]\n",
    "dict_data = {'name':name, 'kor':kor, 'eng':eng, 'mat':mat}\n",
    "\n",
    "df = pd.DataFrame(dict_data)\n",
    "\n",
    "df.index = ['st1', 'st2', 'st3', 'st4'] #행의 인덱스명 설정\n",
    "df.columns = ['dooly', 'doochi', 'dounar', 'heedong'] #컬럼명 설정\n",
    "print(df)"
   ]
  },
  {
   "cell_type": "markdown",
   "id": "097d4cd4-ae4d-4eed-a651-1232338cdae3",
   "metadata": {},
   "source": [
    "#### <span style=\"color:blue\">문제9</span>"
   ]
  },
  {
   "cell_type": "code",
   "execution_count": 62,
   "id": "19e83ca6-b418-402b-b255-fa8c6d3e7f8a",
   "metadata": {},
   "outputs": [
    {
     "name": "stdout",
     "output_type": "stream",
     "text": [
      "  name  kor  eng  mat\n",
      "0  듀크1   90   99   90\n",
      "1  듀크2   80   98   70\n",
      "2  듀크3   70   97   70\n",
      "3  듀크4   70   46   60\n",
      "4  듀크5   60   77   88\n",
      "  name  kor  eng  mat\n",
      "2  듀크3   70   97   70\n",
      "3  듀크4   70   46   60\n",
      "4  듀크5   60   77   88\n",
      "5  듀크6   70   56   99\n",
      "6  듀크7   90   90   90\n",
      "Index(['name', 'kor', 'eng', 'mat'], dtype='object')\n",
      "0    듀크1\n",
      "1    듀크2\n",
      "2    듀크3\n",
      "3    듀크4\n",
      "4    듀크5\n",
      "5    듀크6\n",
      "6    듀크7\n",
      "Name: name, dtype: object\n",
      "0    듀크1\n",
      "1    듀크2\n",
      "2    듀크3\n",
      "3    듀크4\n",
      "4    듀크5\n",
      "5    듀크6\n",
      "6    듀크7\n",
      "Name: name, dtype: object\n",
      "   kor  mat\n",
      "0   90   90\n",
      "1   80   70\n",
      "2   70   70\n",
      "3   70   60\n",
      "4   60   88\n",
      "5   70   99\n",
      "6   90   90\n",
      "name    듀크4\n",
      "kor      70\n",
      "eng      46\n",
      "mat      60\n",
      "Name: 3, dtype: object\n",
      "듀크1\n",
      "46\n",
      "   eng\n",
      "2   97\n",
      "3   46\n",
      "   eng  mat\n",
      "2   97   70\n",
      "3   46   60\n",
      "name    듀크4\n",
      "kor      70\n",
      "eng      46\n",
      "mat      60\n",
      "Name: 3, dtype: object\n",
      "듀크1\n",
      "46\n",
      "   eng\n",
      "2   97\n",
      "3   46\n",
      "   eng  mat\n",
      "2   97   70\n",
      "3   46   60\n"
     ]
    }
   ],
   "source": [
    "import pandas as pd\n",
    "\n",
    "data = {\n",
    "    'name':['듀크1', '듀크2', '듀크3', '듀크4', '듀크5', '듀크6', '듀크7'],\n",
    "    'kor':[90, 80, 70, 70, 60, 70, 90],\n",
    "    'eng':[99, 98, 97, 46, 77, 56, 90],\n",
    "    'mat':[90, 70, 70, 60, 88, 99, 90]\n",
    "}\n",
    "df = pd.DataFrame(data)\n",
    "print(df.head())\n",
    "print(df.tail())\n",
    "print(df.columns)\n",
    "print(df['name'])\n",
    "print(df.name)\n",
    "print(df[['kor','mat']])\n",
    "print(df.iloc[3])\n",
    "print(df.iloc[0][0])\n",
    "print(df.iloc[3][2])\n",
    "print(df.iloc[[2,3],[2]]) \n",
    "print(df.iloc[[2,3],[2,3]]) #iloc[2:4,2:4]도 되는것 같음.\n",
    "print(df.loc[3]) #loc 인덱서를 사용하여 4번째 행을 출력한다. #인덱스 이름을 이용\n",
    "print(df.loc[0]['name']) #loc 인덱서를 사용하여 첫번째행, 첫번째열을 출력한다. #loc[0,'name']도 가능해 보임\n",
    "print(df.loc[3]['eng']) #loc 인덱서를 사용하여 네번째행, 세번째열을 출력한다.\n",
    "print(df.loc[[2,3],['eng']]) #loc 인덱서를 사용하여 3번째와 4번째행의 3번째 열을 출력한다.\n",
    "print(df.loc[[2,3],['eng', 'mat']]) #loc 인덱서를 사용하여 3번째와 4번째행의 3번째와 4번째 열을 출력한다."
   ]
  },
  {
   "cell_type": "markdown",
   "id": "7081b230-bc8b-4ceb-b65f-6f566a9b297f",
   "metadata": {},
   "source": [
    "#### <span style=\"color:blue\">문제10</span>"
   ]
  },
  {
   "cell_type": "code",
   "execution_count": 69,
   "id": "3103ef11-3c9f-4301-92e8-b8a5f98b0c90",
   "metadata": {},
   "outputs": [
    {
     "name": "stdout",
     "output_type": "stream",
     "text": [
      "      kor  eng  mat\n",
      "name               \n",
      "듀크1    90   99   90\n",
      "듀크2    80   98   70\n",
      "듀크3    70   97   70\n",
      "듀크4    70   46   60\n",
      "듀크5    60   77   88\n",
      "듀크6    70   56   99\n",
      "듀크7    90   90   90\n"
     ]
    }
   ],
   "source": [
    "#10번 문제에서 사용한 df 재활용\n",
    "#책 39pg 참고\n",
    "name = ['듀크1', '듀크2', '듀크3', '듀크4', '듀크5', '듀크6', '듀크7']\n",
    "#df.index=name #이건 행 인덱스를 새로 추가하는 방법\n",
    "df.set_index(\"name\", inplace=True) #이건 기존 열을 행 인덱스로 설정하는 방법\n",
    "print(df)"
   ]
  },
  {
   "cell_type": "code",
   "execution_count": null,
   "id": "90223c04-ceaf-4e3a-9ec8-38ec05a9fa18",
   "metadata": {},
   "outputs": [],
   "source": []
  }
 ],
 "metadata": {
  "kernelspec": {
   "display_name": "eduvenv",
   "language": "python",
   "name": "eduvenv"
  },
  "language_info": {
   "codemirror_mode": {
    "name": "ipython",
    "version": 3
   },
   "file_extension": ".py",
   "mimetype": "text/x-python",
   "name": "python",
   "nbconvert_exporter": "python",
   "pygments_lexer": "ipython3",
   "version": "3.9.15"
  }
 },
 "nbformat": 4,
 "nbformat_minor": 5
}
