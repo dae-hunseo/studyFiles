{
 "cells": [
  {
   "cell_type": "markdown",
   "id": "a893f36c-7c0f-4306-b156-79bb508601db",
   "metadata": {},
   "source": [
    "# 11월 21일 실습2(exam4.ipynb 관련)"
   ]
  },
  {
   "cell_type": "markdown",
   "id": "4e2cefea-572b-4e6b-82bf-6348e4a9a2ed",
   "metadata": {},
   "source": [
    "#### <span style=\"color:blue\">1번</span>"
   ]
  },
  {
   "cell_type": "code",
   "execution_count": 25,
   "id": "0a559492-e6b1-445c-b38e-bb3871233bd8",
   "metadata": {},
   "outputs": [
    {
     "name": "stdout",
     "output_type": "stream",
     "text": [
      "  name  kor  eng  mat class\n",
      "0   둘리   90   99   90    1반\n",
      "1   또치   80   98   70    2반\n",
      "2  도우너   70   97   70    1반\n",
      "3  희동이   70   46   60    2반\n"
     ]
    },
    {
     "data": {
      "text/html": [
       "<div>\n",
       "<style scoped>\n",
       "    .dataframe tbody tr th:only-of-type {\n",
       "        vertical-align: middle;\n",
       "    }\n",
       "\n",
       "    .dataframe tbody tr th {\n",
       "        vertical-align: top;\n",
       "    }\n",
       "\n",
       "    .dataframe thead th {\n",
       "        text-align: right;\n",
       "    }\n",
       "</style>\n",
       "<table border=\"1\" class=\"dataframe\">\n",
       "  <thead>\n",
       "    <tr style=\"text-align: right;\">\n",
       "      <th></th>\n",
       "      <th>name</th>\n",
       "      <th>kor</th>\n",
       "      <th>eng</th>\n",
       "      <th>mat</th>\n",
       "      <th>class</th>\n",
       "    </tr>\n",
       "  </thead>\n",
       "  <tbody>\n",
       "    <tr>\n",
       "      <th>0</th>\n",
       "      <td>둘리</td>\n",
       "      <td>90</td>\n",
       "      <td>99</td>\n",
       "      <td>90</td>\n",
       "      <td>1반</td>\n",
       "    </tr>\n",
       "    <tr>\n",
       "      <th>1</th>\n",
       "      <td>또치</td>\n",
       "      <td>80</td>\n",
       "      <td>98</td>\n",
       "      <td>70</td>\n",
       "      <td>2반</td>\n",
       "    </tr>\n",
       "    <tr>\n",
       "      <th>2</th>\n",
       "      <td>도우너</td>\n",
       "      <td>70</td>\n",
       "      <td>97</td>\n",
       "      <td>70</td>\n",
       "      <td>1반</td>\n",
       "    </tr>\n",
       "    <tr>\n",
       "      <th>3</th>\n",
       "      <td>희동이</td>\n",
       "      <td>70</td>\n",
       "      <td>46</td>\n",
       "      <td>60</td>\n",
       "      <td>2반</td>\n",
       "    </tr>\n",
       "  </tbody>\n",
       "</table>\n",
       "</div>"
      ],
      "text/plain": [
       "  name  kor  eng  mat class\n",
       "0   둘리   90   99   90    1반\n",
       "1   또치   80   98   70    2반\n",
       "2  도우너   70   97   70    1반\n",
       "3  희동이   70   46   60    2반"
      ]
     },
     "metadata": {},
     "output_type": "display_data"
    }
   ],
   "source": [
    "import pandas as pd\n",
    "data = {\n",
    "    'name':['둘리','또치','도우너','희동이'],\n",
    "    'kor':[90, 80, 70, 70],\n",
    "    'eng':[99, 98, 97, 46],\n",
    "    'mat':[90, 70, 70, 60]\n",
    "}\n",
    "df = pd.DataFrame(data)\n",
    "df['class'] = ['1반', '2반', '1반', '2반'] #책 31pg\n",
    "print(df)\n",
    "display(df)"
   ]
  },
  {
   "cell_type": "markdown",
   "id": "54ac7d92-5479-46a0-a9c1-585af831efa6",
   "metadata": {},
   "source": [
    "#### <span style=\"color:blue\">2번</span>"
   ]
  },
  {
   "cell_type": "code",
   "execution_count": 26,
   "id": "50b5bc7e-6b00-44d0-85c5-ef91ac14fc55",
   "metadata": {},
   "outputs": [
    {
     "name": "stdout",
     "output_type": "stream",
     "text": [
      "  name  kor  eng  mat class\n",
      "0   둘리   90   99   90    1반\n",
      "1   또치   80   98   70    2반\n",
      "2  도우너   70   97   70    1반\n",
      "3  희동이   70   46   60    2반\n",
      "4  마이콜   80   80   80    1반\n"
     ]
    }
   ],
   "source": [
    "df.loc[4] = ['마이콜', 80, 80, 80, '1반'] #책 32pg\n",
    "print(df)"
   ]
  },
  {
   "cell_type": "markdown",
   "id": "86ff9417-395e-4ffd-b05e-6570537647de",
   "metadata": {},
   "source": [
    "#### <span style=\"color:blue\">3번</span>"
   ]
  },
  {
   "cell_type": "code",
   "execution_count": 27,
   "id": "311908d8-70e4-4bf3-be73-1fccc1cc4772",
   "metadata": {},
   "outputs": [
    {
     "name": "stdout",
     "output_type": "stream",
     "text": [
      "      국어  영어  수학 반번호\n",
      "name                \n",
      "둘리    90  99  90  1반\n",
      "또치    80  98  70  2반\n",
      "도우너   70  97  70  1반\n",
      "희동이   70  46  60  2반\n",
      "마이콜   80  80  80  1반\n"
     ]
    }
   ],
   "source": [
    "df = df.set_index('name') #책 39pg\n",
    "df.columns = ['국어','영어','수학','반번호'] #책 15pg\n",
    "print(df)"
   ]
  },
  {
   "cell_type": "markdown",
   "id": "28dbae7e-ab2f-4f10-8260-53e12e033b7c",
   "metadata": {},
   "source": [
    "#### <span style=\"color:blue\">4번</span>"
   ]
  },
  {
   "cell_type": "code",
   "execution_count": 28,
   "id": "08334f61-8f28-4ef8-8bd5-9d15a87fff64",
   "metadata": {},
   "outputs": [
    {
     "name": "stdout",
     "output_type": "stream",
     "text": [
      "       국어   영어   수학 반번호\n",
      "name                   \n",
      "둘리     90   99   90  1반\n",
      "또치     80   98   70  2반\n",
      "도우너    70   97   70  1반\n",
      "희동이    70   90   60  2반\n",
      "마이콜   100  100  100  1반\n"
     ]
    }
   ],
   "source": [
    "df.loc['마이콜'] = [100, 100, 100, '1반']\n",
    "df.loc['희동이','영어'] = 90 #df.iloc[-2][1]과 같다. #['희동이']['영어']로 하면 에러가 남. 이런 방식은 읽는건 괜찮은데 대입하는건 보장하지 못한다고 에러코드에 나와있음.\n",
    "print(df)"
   ]
  },
  {
   "cell_type": "markdown",
   "id": "fd5433e0-cc78-48d9-bdf3-072a1ae1bf61",
   "metadata": {},
   "source": [
    "#### <span style=\"color:blue\">5번</span>"
   ]
  },
  {
   "cell_type": "code",
   "execution_count": 29,
   "id": "586dc6da-5049-417b-8926-d762c16bfd98",
   "metadata": {},
   "outputs": [
    {
     "name": "stdout",
     "output_type": "stream",
     "text": [
      "    성명   국어   영어   수학 반번호\n",
      "0   둘리   90   99   90  1반\n",
      "1   또치   80   98   70  2반\n",
      "2  도우너   70   97   70  1반\n",
      "3  희동이   70   90   60  2반\n",
      "4  마이콜  100  100  100  1반\n"
     ]
    }
   ],
   "source": [
    "df.reset_index(inplace=True) #책 42pg\n",
    "df.rename(columns={'name':'성명'}, inplace=True)\n",
    "print(df)"
   ]
  },
  {
   "cell_type": "markdown",
   "id": "acb2156f-fedc-42a8-9d9c-1257cb18e60e",
   "metadata": {},
   "source": [
    "#### <span style=\"color:blue\">6번</span>"
   ]
  },
  {
   "cell_type": "code",
   "execution_count": 30,
   "id": "f4ebf7d1-edb8-4caf-aac5-4ab45046f17c",
   "metadata": {},
   "outputs": [
    {
     "name": "stdout",
     "output_type": "stream",
     "text": [
      "    성명   국어   영어   수학 반번호\n",
      "4  마이콜  100  100  100  1반\n",
      "0   둘리   90   99   90  1반\n",
      "1   또치   80   98   70  2반\n",
      "2  도우너   70   97   70  1반\n",
      "3  희동이   70   90   60  2반\n",
      "    성명   국어   영어   수학 반번호\n",
      "3  희동이   70   90   60  2반\n",
      "2  도우너   70   97   70  1반\n",
      "1   또치   80   98   70  2반\n",
      "0   둘리   90   99   90  1반\n",
      "4  마이콜  100  100  100  1반\n"
     ]
    }
   ],
   "source": [
    "df1 = df.sort_values(by='국어', ascending=False)\n",
    "df2 = df.sort_values(by='영어', ascending=True)\n",
    "print(df1)\n",
    "print(df2)"
   ]
  },
  {
   "cell_type": "markdown",
   "id": "713251eb-01f6-401c-ab8e-c1d55a739bbb",
   "metadata": {
    "tags": []
   },
   "source": [
    "#### <span style=\"color:blue\">7번</span>"
   ]
  },
  {
   "cell_type": "code",
   "execution_count": 32,
   "id": "a9212297-ed4d-4c00-af82-20afe90013bb",
   "metadata": {},
   "outputs": [
    {
     "name": "stdout",
     "output_type": "stream",
     "text": [
      "279\n",
      "248\n",
      "237\n",
      "220\n",
      "300\n",
      "    성명   국어   영어   수학 반번호   총점\n",
      "0   둘리   90   99   90  1반  279\n",
      "1   또치   80   98   70  2반  248\n",
      "2  도우너   70   97   70  1반  237\n",
      "3  희동이   70   90   60  2반  220\n",
      "4  마이콜  100  100  100  1반  300\n"
     ]
    }
   ],
   "source": [
    "temp = 0\n",
    "temp_list = []\n",
    "for i in range(5): #end값은 미포함\n",
    "    for j in range(1,4):\n",
    "        temp = temp + df.iloc[i,j]\n",
    "    temp_list.insert(i, temp) #temp_list[i] = temp가 아님\n",
    "    temp = 0\n",
    "    #print(temp_list[i])\n",
    "\n",
    "df['총점'] = temp_list #위에서처럼 for문 안 쓰고 df.sum(axis=1, numeric_only=True)도 가능. lab8하면서 알아냄\n",
    "print(df)"
   ]
  },
  {
   "cell_type": "markdown",
   "id": "237799df-4ddf-4c9c-9adc-ca75cc996a27",
   "metadata": {},
   "source": [
    "#### <span style=\"color:blue\">8번</span>"
   ]
  },
  {
   "cell_type": "code",
   "execution_count": 33,
   "id": "d658eedf-8f87-4eee-88aa-39b146f31c48",
   "metadata": {},
   "outputs": [
    {
     "name": "stdout",
     "output_type": "stream",
     "text": [
      "    성명   국어   영어   수학   총점\n",
      "0   둘리   90   99   90  279\n",
      "1   또치   80   98   70  248\n",
      "2  도우너   70   97   70  237\n",
      "3  희동이   70   90   60  220\n",
      "4  마이콜  100  100  100  300\n",
      "    성명   국어   영어   수학 반번호   총점\n",
      "0   둘리   90   99   90  1반  279\n",
      "1   또치   80   98   70  2반  248\n",
      "2  도우너   70   97   70  1반  237\n",
      "3  희동이   70   90   60  2반  220\n",
      "4  마이콜  100  100  100  1반  300\n"
     ]
    }
   ],
   "source": [
    "df3 = df.drop('반번호', axis=1)\n",
    "print(df3)\n",
    "print(df)"
   ]
  },
  {
   "cell_type": "markdown",
   "id": "149df010-3df6-42fe-8fd0-45d9290015d7",
   "metadata": {},
   "source": [
    "#### <span style=\"color:blue\">9번</span>"
   ]
  },
  {
   "cell_type": "code",
   "execution_count": 34,
   "id": "03be0266-6f30-48a2-9dbd-bbf85b6d7971",
   "metadata": {},
   "outputs": [
    {
     "name": "stdout",
     "output_type": "stream",
     "text": [
      "    성명  국어  영어  수학 반번호   총점\n",
      "0   둘리  90  99  90  1반  279\n",
      "1   또치  80  98  70  2반  248\n",
      "2  도우너  70  97  70  1반  237\n",
      "3  희동이  70  90  60  2반  220\n",
      "    성명   국어   영어   수학 반번호   총점\n",
      "0   둘리   90   99   90  1반  279\n",
      "1   또치   80   98   70  2반  248\n",
      "2  도우너   70   97   70  1반  237\n",
      "3  희동이   70   90   60  2반  220\n",
      "4  마이콜  100  100  100  1반  300\n"
     ]
    }
   ],
   "source": [
    "df4 = df.drop(4, axis=0)\n",
    "print(df4)\n",
    "print(df)"
   ]
  },
  {
   "cell_type": "markdown",
   "id": "f40f661e-afad-4875-a6ec-b5e81bf25a82",
   "metadata": {},
   "source": [
    "#### <span style=\"color:blue\">10번</span>"
   ]
  },
  {
   "cell_type": "code",
   "execution_count": 37,
   "id": "1bb59b41-f1a8-485d-b4ac-e4a446808c40",
   "metadata": {},
   "outputs": [
    {
     "name": "stdout",
     "output_type": "stream",
     "text": [
      "eng    140.0\n",
      "kor    270.0\n",
      "mat    160.0\n",
      "dtype: float64\n"
     ]
    }
   ],
   "source": [
    "data1 = {'kor':90, 'mat':80}\n",
    "data2 = {'kor':90, 'eng':70}\n",
    "data3 = {'kor':90, 'eng':70, 'mat':80}\n",
    "series1 = pd.Series(data1)\n",
    "series2 = pd.Series(data2)\n",
    "series3 = pd.Series(data3)\n",
    "#result = series1 + series2 + series3 \n",
    "result = series1.add(series2, fill_value=0).add(series3, fill_value=0) #시리즈 연산 메소드(책 51pg)\n",
    "print(result)"
   ]
  },
  {
   "cell_type": "markdown",
   "id": "ceb7e1b8-4887-4d7c-ab53-781f59b15008",
   "metadata": {},
   "source": [
    "#### <span style=\"color:blue\">11번</span>"
   ]
  },
  {
   "cell_type": "code",
   "execution_count": 45,
   "id": "118885c4-5e06-4132-83a6-25c669803515",
   "metadata": {},
   "outputs": [
    {
     "name": "stdout",
     "output_type": "stream",
     "text": [
      "     X1   X2    X3  X4\n",
      "Y1  2.9  9.2  13.2   2\n",
      "Y2  2.4  8.7  11.5   3\n",
      "Y3  2.0  7.2  10.8   4\n",
      "Y4  2.3  8.5  12.3   3\n",
      "Y5  3.2  9.6  12.6   2\n",
      "      X1    X2    X3  X4\n",
      "Y1   2.9   9.2  13.2   2\n",
      "Y2   2.4   8.7  11.5   3\n",
      "Y3   2.0   7.2  10.8   4\n",
      "Y4   2.3   8.5  12.3   3\n",
      "Y5   3.2   9.6  12.6   2\n",
      "Y6  10.0  20.0  30.0  40\n",
      "      X1    X2    X3  X4\n",
      "Y1  12.9  19.2  23.2  12\n",
      "Y2  12.4  18.7  21.5  13\n",
      "Y3  12.0  17.2  20.8  14\n",
      "Y4  12.3  18.5  22.3  13\n",
      "Y5  13.2  19.6  22.6  12\n",
      "Y6  20.0  30.0  40.0  50\n",
      "      X1    X2    X3  X4  total\n",
      "Y1  12.9  19.2  23.2  12   67.3\n",
      "Y2  12.4  18.7  21.5  13   65.6\n",
      "Y3  12.0  17.2  20.8  14   64.0\n",
      "Y4  12.3  18.5  22.3  13   66.1\n",
      "Y5  13.2  19.6  22.6  12   67.4\n",
      "Y6  20.0  30.0  40.0  50  140.0\n",
      "         Y1    Y2    Y3    Y4    Y5     Y6\n",
      "X1     12.9  12.4  12.0  12.3  13.2   20.0\n",
      "X2     19.2  18.7  17.2  18.5  19.6   30.0\n",
      "X3     23.2  21.5  20.8  22.3  22.6   40.0\n",
      "X4     12.0  13.0  14.0  13.0  12.0   50.0\n",
      "total  67.3  65.6  64.0  66.1  67.4  140.0\n"
     ]
    }
   ],
   "source": [
    "data = {\n",
    "    'X1':[2.9, 2.4, 2, 2.3, 3.2],\n",
    "    'X2':[9.2, 8.7, 7.2, 8.5, 9.6],\n",
    "    'X3':[13.2, 11.5, 10.8, 12.3, 12.6],\n",
    "    'X4':[2, 3, 4, 3, 2]\n",
    "}\n",
    "df = pd.DataFrame(data, index=['Y1', 'Y2', 'Y3','Y4','Y5'])\n",
    "print(df)\n",
    "df.loc['Y6'] = [10, 20, 30, 40] #다른 데이터가 실수면 새로 추가하는 데이터도 실수로 저장됨. 즉 10, 20, 30은 10.0, 20.0, 30.0으로\n",
    "print(df)\n",
    "df = df+10\n",
    "print(df)\n",
    "df['total'] = df.X1 + df.X2 + df.X3 + df.X4 #이런 방식은 생각 못했음 #열선택은 책 23pg\n",
    "print(df)\n",
    "df = df.transpose() #df = df.T\n",
    "print(df)"
   ]
  },
  {
   "cell_type": "code",
   "execution_count": null,
   "id": "8604d7f1-0274-4f29-b0c4-565316247c4b",
   "metadata": {},
   "outputs": [],
   "source": []
  }
 ],
 "metadata": {
  "kernelspec": {
   "display_name": "eduvenv",
   "language": "python",
   "name": "eduvenv"
  },
  "language_info": {
   "codemirror_mode": {
    "name": "ipython",
    "version": 3
   },
   "file_extension": ".py",
   "mimetype": "text/x-python",
   "name": "python",
   "nbconvert_exporter": "python",
   "pygments_lexer": "ipython3",
   "version": "3.9.15"
  }
 },
 "nbformat": 4,
 "nbformat_minor": 5
}
