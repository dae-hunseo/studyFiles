{
 "cells": [
  {
   "cell_type": "markdown",
   "id": "a0653ef8-c2f3-4857-9491-419a0ee2df2c",
   "metadata": {},
   "source": [
    "## 11월 17일 실습1"
   ]
  },
  {
   "cell_type": "code",
   "execution_count": 95,
   "id": "dd0249d0-aeb2-4132-a496-afffd949881f",
   "metadata": {},
   "outputs": [
    {
     "name": "stdout",
     "output_type": "stream",
     "text": [
      "[<h1> 태그의 컨텐츠] HTML의 링크 태그\n",
      "[텍스트 형식으로 내용을 가지고 있는 <a>태그의 컨텐트와 href 속성값]\n",
      "World Wide Consortium http://www.w3.org/\n",
      "Java Page http://java.sun.com/\n",
      "Python Page http://www.python.org/\n",
      "Web Client 기술 학습 http://www.w3schools.com/\n",
      "<img> 태그의 src 속성값http://unico2013.dothome.co.kr/image/duke.jpg\n",
      "[첫 번째 <h2>태그의 컨텐츠] 좋아하는 색\n",
      "[<ul>태그의 자식 태그들 중 style 속성이 green으로 끝나는 태그의 컨텐츠] \n",
      "녹색\n",
      "녹색\n",
      "녹색\n",
      "먹고싶은 음식\n",
      "\n",
      "짜장면\n",
      "냉면\n",
      "돈까스\n",
      "갈비\n",
      "\n",
      "\n",
      "둘리또치도우너\n",
      "케라토사우루스타조외계인\n",
      "도봉구 쌍문동아프리카깐따삐아 별\n",
      "\n",
      "\n",
      "둘리또치도우너\n",
      "케라토사우루스타조외계인\n",
      "도봉구 쌍문동아프리카깐따삐아 별\n",
      "\n",
      "아프리카\n"
     ]
    }
   ],
   "source": [
    "import requests\n",
    "from bs4 import BeautifulSoup\n",
    "import re\n",
    "\n",
    "req = requests.get('http://unico2013.dothome.co.kr/crawling/exercise_bs.html')\n",
    "html = req.content\n",
    "html = html.decode('utf-8') #크롤링해온 내용에서 문자를 해석하기 위함 #이걸 안 해줘도 BeautifulSoup은 해석해준다.\n",
    "#print(html)\n",
    "bs = BeautifulSoup(html, 'html.parser') #html 소스 내용을 파싱하기 위함\n",
    "print(\"[<h1> 태그의 컨텐츠] \"+bs.h1.string) #bs.find('h1').text와 같음\n",
    "print(\"[텍스트 형식으로 내용을 가지고 있는 <a>태그의 컨텐트와 href 속성값]\")\n",
    "#print(bs.a.string + \" \"+bs.a['href'])\n",
    "#print(bs.a.contents)\n",
    "for bss in bs.find_all(\"a\", text=True) :\n",
    "    print(bss.string + \" \"+bss['href']) #bss.string 대신 bss.text해도 됨.\n",
    "print(\"<img> 태그의 src 속성값\" + bs.img['src']) #content = bs.find('img') 한 다음 #매개변수로  content['src']를 넘겨줘도 됨\n",
    "print(\"[첫 번째 <h2>태그의 컨텐츠] \" + bs.h2.string)\n",
    "print(\"[<ul>태그의 자식 태그들 중 style 속성이 green으로 끝나는 태그의 컨텐츠] \")\n",
    "#print(bs.li.attrs)\n",
    "#print(bs.ul.li['style'] == \"green\")\n",
    "#print(bs.find('ul > *', style=\"green\"))\n",
    "#for bss in bs.select('ul > *'):\n",
    "    #if bss['style']=='green':\n",
    "        #print(bss.string)        \n",
    "print(bs.find('li', attrs={\"style\":\"color:green\"}).string)\n",
    "print(bs.find_all('li',attrs={'style':re.compile('green$')})[0].string) \n",
    "print(bs.select('ul>[style$=green]')[0].string)\n",
    "\n",
    "print(bs.select(\"h2:nth-of-type(2)\")[0].string) #select와 find_all은 resultSet을 리턴하기 때문에 [0]을 지정 해야함\n",
    "\n",
    "print(bs.ol.text)\n",
    "\n",
    "print(bs.table.text)\n",
    "\n",
    "print(bs.table.text) #print(bs.find('tr', attrs={\"class\":\"name\"}).text) \n",
    "\n",
    "print(bs.find('td', attrs={\"id\":\"target\"}).text) #print(bs.find('td',id=\"target\").text)"
   ]
  },
  {
   "cell_type": "code",
   "execution_count": null,
   "id": "92ea8230-6e9a-43f6-81f4-a9ad2b4f3c16",
   "metadata": {},
   "outputs": [],
   "source": []
  },
  {
   "cell_type": "code",
   "execution_count": null,
   "id": "13818100-d244-4f2e-9a82-208a68aee204",
   "metadata": {},
   "outputs": [],
   "source": []
  }
 ],
 "metadata": {
  "kernelspec": {
   "display_name": "eduvenv",
   "language": "python",
   "name": "eduvenv"
  },
  "language_info": {
   "codemirror_mode": {
    "name": "ipython",
    "version": 3
   },
   "file_extension": ".py",
   "mimetype": "text/x-python",
   "name": "python",
   "nbconvert_exporter": "python",
   "pygments_lexer": "ipython3",
   "version": "3.9.15"
  }
 },
 "nbformat": 4,
 "nbformat_minor": 5
}
